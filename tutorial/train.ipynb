{
 "cells": [
  {
   "cell_type": "markdown",
   "metadata": {
    "slideshow": {
     "slide_type": "slide"
    }
   },
   "source": [
    "# Fin-tuning BERT for Sentiment Analysis"
   ]
  },
  {
   "cell_type": "markdown",
   "metadata": {
    "slideshow": {
     "slide_type": "skip"
    }
   },
   "source": [
    "## Preparation\n",
    "\n",
    "First, let's import necessary modules."
   ]
  },
  {
   "cell_type": "code",
   "execution_count": 1,
   "metadata": {},
   "outputs": [
    {
     "name": "stdout",
     "output_type": "stream",
     "text": [
      "\u001b[31mmxnet-cu100mkl 1.5.1.post0 has requirement numpy<2.0.0,>1.16.0, but you'll have numpy 1.14.5 which is incompatible.\u001b[0m\n",
      "\u001b[33mYou are using pip version 10.0.1, however version 19.2.3 is available.\n",
      "You should consider upgrading via the 'pip install --upgrade pip' command.\u001b[0m\n"
     ]
    }
   ],
   "source": [
    "!pip install mxnet-cu100mkl d2l https://github.com/dmlc/gluon-nlp/tarball/master sagemaker-containers -U -q"
   ]
  },
  {
   "cell_type": "code",
   "execution_count": 2,
   "metadata": {
    "ExecuteTime": {
     "end_time": "2019-08-06T01:36:58.464578Z",
     "start_time": "2019-08-06T01:36:57.258390Z"
    },
    "attributes": {
     "classes": [],
     "id": "",
     "n": "1"
    },
    "slideshow": {
     "slide_type": "-"
    }
   },
   "outputs": [
    {
     "name": "stdout",
     "output_type": "stream",
     "text": [
      "Namespace(batch_size=32, lr=5e-05, num_epochs=1)\n"
     ]
    }
   ],
   "source": [
    "import argparse, time, os\n",
    "import d2l\n",
    "import numpy as np\n",
    "import mxnet as mx\n",
    "from mxnet import gluon\n",
    "import gluonnlp as nlp\n",
    "from utils import train_loop, predict_sentiment\n",
    "\n",
    "parser = argparse.ArgumentParser(description='BERT sentiment analysis fine-tune example.')\n",
    "parser.add_argument('--batch_size', type=int, default=32,\n",
    "                    help='batch size per GPU. total_batch_size = batch_size_per_gpu * num_gpus')\n",
    "parser.add_argument('--num_epochs', type=int, default=1, help='The number of epochs to train')\n",
    "parser.add_argument('--lr', type=float, default=5e-5, help='Learning rate')\n",
    "\n",
    "args = parser.parse_args([])\n",
    "print(args)"
   ]
  },
  {
   "cell_type": "markdown",
   "metadata": {
    "slideshow": {
     "slide_type": "notes"
    }
   },
   "source": [
    "In this section, we fine-tune the BERT Base model for sentiment analysis on the IMDB dataset.\n",
    "\n",
    "### BERT for Sentiment Analysis"
   ]
  },
  {
   "cell_type": "markdown",
   "metadata": {
    "slideshow": {
     "slide_type": "slide"
    }
   },
   "source": [
    "### Get Pre-trained BERT Model"
   ]
  },
  {
   "cell_type": "markdown",
   "metadata": {
    "slideshow": {
     "slide_type": "notes"
    }
   },
   "source": [
    "We can load the pre-trained BERT fairly easily using the model API in GluonNLP, which returns the vocabulary along with the model. We include the pooler layer of the pre-trained model by setting `use_pooler` to `True`.\n",
    "The list of pre-trained BERT models available in GluonNLP can be found [here](../../model_zoo/bert/index.rst).\n",
    "\n",
    "Now that we have loaded the BERT model, we only need to attach an additional layer for classification.\n",
    "The `BERTClassifier` class uses a BERT base model to encode sentence representation, followed by a `nn.Dense` layer for classification. We only need to initialize the classification layer. The encoding layers are already initialized with pre-trained weights."
   ]
  },
  {
   "cell_type": "code",
   "execution_count": 3,
   "metadata": {
    "ExecuteTime": {
     "end_time": "2019-07-26T22:44:54.906532Z",
     "start_time": "2019-07-26T22:44:34.102308Z"
    },
    "attributes": {
     "classes": [],
     "id": "",
     "n": "8"
    },
    "scrolled": true,
    "slideshow": {
     "slide_type": "-"
    }
   },
   "outputs": [
    {
     "name": "stdout",
     "output_type": "stream",
     "text": [
      "Vocab file is not found. Downloading.\n",
      "Downloading /home/ec2-user/.mxnet/models/1570161310.8147109book_corpus_wiki_en_uncased-a6607397.zip from https://apache-mxnet.s3-accelerate.dualstack.amazonaws.com/gluon/dataset/vocab/book_corpus_wiki_en_uncased-a6607397.zip...\n",
      "Downloading /home/ec2-user/.mxnet/models/bert_12_768_12_book_corpus_wiki_en_uncased-75cc780f.zip from https://apache-mxnet.s3-accelerate.dualstack.amazonaws.com/gluon/models/bert_12_768_12_book_corpus_wiki_en_uncased-75cc780f.zip...\n",
      "BERTClassifier(\n",
      "  (bert): BERTModel(\n",
      "    (encoder): BERTEncoder(\n",
      "      (dropout_layer): Dropout(p = 0.1, axes=())\n",
      "      (layer_norm): BERTLayerNorm(eps=1e-12, axis=-1, center=True, scale=True, in_channels=768)\n",
      "      (transformer_cells): HybridSequential(\n",
      "        (0): BERTEncoderCell(\n",
      "          (dropout_layer): Dropout(p = 0.1, axes=())\n",
      "          (attention_cell): MultiHeadAttentionCell(\n",
      "            (_base_cell): DotProductAttentionCell(\n",
      "              (_dropout_layer): Dropout(p = 0.1, axes=())\n",
      "            )\n",
      "            (proj_query): Dense(768 -> 768, linear)\n",
      "            (proj_key): Dense(768 -> 768, linear)\n",
      "            (proj_value): Dense(768 -> 768, linear)\n",
      "          )\n",
      "          (proj): Dense(768 -> 768, linear)\n",
      "          (ffn): BERTPositionwiseFFN(\n",
      "            (ffn_1): Dense(768 -> 3072, linear)\n",
      "            (activation): GELU()\n",
      "            (ffn_2): Dense(3072 -> 768, linear)\n",
      "            (dropout_layer): Dropout(p = 0.1, axes=())\n",
      "            (layer_norm): BERTLayerNorm(eps=1e-12, axis=-1, center=True, scale=True, in_channels=768)\n",
      "          )\n",
      "          (layer_norm): BERTLayerNorm(eps=1e-12, axis=-1, center=True, scale=True, in_channels=768)\n",
      "        )\n",
      "        (1): BERTEncoderCell(\n",
      "          (dropout_layer): Dropout(p = 0.1, axes=())\n",
      "          (attention_cell): MultiHeadAttentionCell(\n",
      "            (_base_cell): DotProductAttentionCell(\n",
      "              (_dropout_layer): Dropout(p = 0.1, axes=())\n",
      "            )\n",
      "            (proj_query): Dense(768 -> 768, linear)\n",
      "            (proj_key): Dense(768 -> 768, linear)\n",
      "            (proj_value): Dense(768 -> 768, linear)\n",
      "          )\n",
      "          (proj): Dense(768 -> 768, linear)\n",
      "          (ffn): BERTPositionwiseFFN(\n",
      "            (ffn_1): Dense(768 -> 3072, linear)\n",
      "            (activation): GELU()\n",
      "            (ffn_2): Dense(3072 -> 768, linear)\n",
      "            (dropout_layer): Dropout(p = 0.1, axes=())\n",
      "            (layer_norm): BERTLayerNorm(eps=1e-12, axis=-1, center=True, scale=True, in_channels=768)\n",
      "          )\n",
      "          (layer_norm): BERTLayerNorm(eps=1e-12, axis=-1, center=True, scale=True, in_channels=768)\n",
      "        )\n",
      "        (2): BERTEncoderCell(\n",
      "          (dropout_layer): Dropout(p = 0.1, axes=())\n",
      "          (attention_cell): MultiHeadAttentionCell(\n",
      "            (_base_cell): DotProductAttentionCell(\n",
      "              (_dropout_layer): Dropout(p = 0.1, axes=())\n",
      "            )\n",
      "            (proj_query): Dense(768 -> 768, linear)\n",
      "            (proj_key): Dense(768 -> 768, linear)\n",
      "            (proj_value): Dense(768 -> 768, linear)\n",
      "          )\n",
      "          (proj): Dense(768 -> 768, linear)\n",
      "          (ffn): BERTPositionwiseFFN(\n",
      "            (ffn_1): Dense(768 -> 3072, linear)\n",
      "            (activation): GELU()\n",
      "            (ffn_2): Dense(3072 -> 768, linear)\n",
      "            (dropout_layer): Dropout(p = 0.1, axes=())\n",
      "            (layer_norm): BERTLayerNorm(eps=1e-12, axis=-1, center=True, scale=True, in_channels=768)\n",
      "          )\n",
      "          (layer_norm): BERTLayerNorm(eps=1e-12, axis=-1, center=True, scale=True, in_channels=768)\n",
      "        )\n",
      "        (3): BERTEncoderCell(\n",
      "          (dropout_layer): Dropout(p = 0.1, axes=())\n",
      "          (attention_cell): MultiHeadAttentionCell(\n",
      "            (_base_cell): DotProductAttentionCell(\n",
      "              (_dropout_layer): Dropout(p = 0.1, axes=())\n",
      "            )\n",
      "            (proj_query): Dense(768 -> 768, linear)\n",
      "            (proj_key): Dense(768 -> 768, linear)\n",
      "            (proj_value): Dense(768 -> 768, linear)\n",
      "          )\n",
      "          (proj): Dense(768 -> 768, linear)\n",
      "          (ffn): BERTPositionwiseFFN(\n",
      "            (ffn_1): Dense(768 -> 3072, linear)\n",
      "            (activation): GELU()\n",
      "            (ffn_2): Dense(3072 -> 768, linear)\n",
      "            (dropout_layer): Dropout(p = 0.1, axes=())\n",
      "            (layer_norm): BERTLayerNorm(eps=1e-12, axis=-1, center=True, scale=True, in_channels=768)\n",
      "          )\n",
      "          (layer_norm): BERTLayerNorm(eps=1e-12, axis=-1, center=True, scale=True, in_channels=768)\n",
      "        )\n",
      "        (4): BERTEncoderCell(\n",
      "          (dropout_layer): Dropout(p = 0.1, axes=())\n",
      "          (attention_cell): MultiHeadAttentionCell(\n",
      "            (_base_cell): DotProductAttentionCell(\n",
      "              (_dropout_layer): Dropout(p = 0.1, axes=())\n",
      "            )\n",
      "            (proj_query): Dense(768 -> 768, linear)\n",
      "            (proj_key): Dense(768 -> 768, linear)\n",
      "            (proj_value): Dense(768 -> 768, linear)\n",
      "          )\n",
      "          (proj): Dense(768 -> 768, linear)\n",
      "          (ffn): BERTPositionwiseFFN(\n",
      "            (ffn_1): Dense(768 -> 3072, linear)\n",
      "            (activation): GELU()\n",
      "            (ffn_2): Dense(3072 -> 768, linear)\n",
      "            (dropout_layer): Dropout(p = 0.1, axes=())\n",
      "            (layer_norm): BERTLayerNorm(eps=1e-12, axis=-1, center=True, scale=True, in_channels=768)\n",
      "          )\n",
      "          (layer_norm): BERTLayerNorm(eps=1e-12, axis=-1, center=True, scale=True, in_channels=768)\n",
      "        )\n",
      "        (5): BERTEncoderCell(\n",
      "          (dropout_layer): Dropout(p = 0.1, axes=())\n",
      "          (attention_cell): MultiHeadAttentionCell(\n",
      "            (_base_cell): DotProductAttentionCell(\n",
      "              (_dropout_layer): Dropout(p = 0.1, axes=())\n",
      "            )\n",
      "            (proj_query): Dense(768 -> 768, linear)\n",
      "            (proj_key): Dense(768 -> 768, linear)\n",
      "            (proj_value): Dense(768 -> 768, linear)\n",
      "          )\n",
      "          (proj): Dense(768 -> 768, linear)\n",
      "          (ffn): BERTPositionwiseFFN(\n",
      "            (ffn_1): Dense(768 -> 3072, linear)\n",
      "            (activation): GELU()\n",
      "            (ffn_2): Dense(3072 -> 768, linear)\n",
      "            (dropout_layer): Dropout(p = 0.1, axes=())\n",
      "            (layer_norm): BERTLayerNorm(eps=1e-12, axis=-1, center=True, scale=True, in_channels=768)\n",
      "          )\n",
      "          (layer_norm): BERTLayerNorm(eps=1e-12, axis=-1, center=True, scale=True, in_channels=768)\n",
      "        )\n",
      "        (6): BERTEncoderCell(\n",
      "          (dropout_layer): Dropout(p = 0.1, axes=())\n",
      "          (attention_cell): MultiHeadAttentionCell(\n",
      "            (_base_cell): DotProductAttentionCell(\n",
      "              (_dropout_layer): Dropout(p = 0.1, axes=())\n",
      "            )\n",
      "            (proj_query): Dense(768 -> 768, linear)\n",
      "            (proj_key): Dense(768 -> 768, linear)\n",
      "            (proj_value): Dense(768 -> 768, linear)\n",
      "          )\n",
      "          (proj): Dense(768 -> 768, linear)\n",
      "          (ffn): BERTPositionwiseFFN(\n",
      "            (ffn_1): Dense(768 -> 3072, linear)\n",
      "            (activation): GELU()\n",
      "            (ffn_2): Dense(3072 -> 768, linear)\n",
      "            (dropout_layer): Dropout(p = 0.1, axes=())\n",
      "            (layer_norm): BERTLayerNorm(eps=1e-12, axis=-1, center=True, scale=True, in_channels=768)\n",
      "          )\n",
      "          (layer_norm): BERTLayerNorm(eps=1e-12, axis=-1, center=True, scale=True, in_channels=768)\n",
      "        )\n",
      "        (7): BERTEncoderCell(\n",
      "          (dropout_layer): Dropout(p = 0.1, axes=())\n",
      "          (attention_cell): MultiHeadAttentionCell(\n",
      "            (_base_cell): DotProductAttentionCell(\n",
      "              (_dropout_layer): Dropout(p = 0.1, axes=())\n",
      "            )\n",
      "            (proj_query): Dense(768 -> 768, linear)\n",
      "            (proj_key): Dense(768 -> 768, linear)\n",
      "            (proj_value): Dense(768 -> 768, linear)\n",
      "          )\n",
      "          (proj): Dense(768 -> 768, linear)\n",
      "          (ffn): BERTPositionwiseFFN(\n",
      "            (ffn_1): Dense(768 -> 3072, linear)\n",
      "            (activation): GELU()\n",
      "            (ffn_2): Dense(3072 -> 768, linear)\n",
      "            (dropout_layer): Dropout(p = 0.1, axes=())\n",
      "            (layer_norm): BERTLayerNorm(eps=1e-12, axis=-1, center=True, scale=True, in_channels=768)\n",
      "          )\n",
      "          (layer_norm): BERTLayerNorm(eps=1e-12, axis=-1, center=True, scale=True, in_channels=768)\n",
      "        )\n",
      "        (8): BERTEncoderCell(\n",
      "          (dropout_layer): Dropout(p = 0.1, axes=())\n",
      "          (attention_cell): MultiHeadAttentionCell(\n",
      "            (_base_cell): DotProductAttentionCell(\n",
      "              (_dropout_layer): Dropout(p = 0.1, axes=())\n",
      "            )\n",
      "            (proj_query): Dense(768 -> 768, linear)\n",
      "            (proj_key): Dense(768 -> 768, linear)\n",
      "            (proj_value): Dense(768 -> 768, linear)\n",
      "          )\n",
      "          (proj): Dense(768 -> 768, linear)\n",
      "          (ffn): BERTPositionwiseFFN(\n",
      "            (ffn_1): Dense(768 -> 3072, linear)\n",
      "            (activation): GELU()\n",
      "            (ffn_2): Dense(3072 -> 768, linear)\n",
      "            (dropout_layer): Dropout(p = 0.1, axes=())\n",
      "            (layer_norm): BERTLayerNorm(eps=1e-12, axis=-1, center=True, scale=True, in_channels=768)\n",
      "          )\n",
      "          (layer_norm): BERTLayerNorm(eps=1e-12, axis=-1, center=True, scale=True, in_channels=768)\n",
      "        )\n",
      "        (9): BERTEncoderCell(\n",
      "          (dropout_layer): Dropout(p = 0.1, axes=())\n",
      "          (attention_cell): MultiHeadAttentionCell(\n",
      "            (_base_cell): DotProductAttentionCell(\n",
      "              (_dropout_layer): Dropout(p = 0.1, axes=())\n",
      "            )\n",
      "            (proj_query): Dense(768 -> 768, linear)\n",
      "            (proj_key): Dense(768 -> 768, linear)\n",
      "            (proj_value): Dense(768 -> 768, linear)\n",
      "          )\n",
      "          (proj): Dense(768 -> 768, linear)\n",
      "          (ffn): BERTPositionwiseFFN(\n",
      "            (ffn_1): Dense(768 -> 3072, linear)\n",
      "            (activation): GELU()\n",
      "            (ffn_2): Dense(3072 -> 768, linear)\n",
      "            (dropout_layer): Dropout(p = 0.1, axes=())\n",
      "            (layer_norm): BERTLayerNorm(eps=1e-12, axis=-1, center=True, scale=True, in_channels=768)\n",
      "          )\n",
      "          (layer_norm): BERTLayerNorm(eps=1e-12, axis=-1, center=True, scale=True, in_channels=768)\n",
      "        )\n",
      "        (10): BERTEncoderCell(\n",
      "          (dropout_layer): Dropout(p = 0.1, axes=())\n",
      "          (attention_cell): MultiHeadAttentionCell(\n",
      "            (_base_cell): DotProductAttentionCell(\n",
      "              (_dropout_layer): Dropout(p = 0.1, axes=())\n",
      "            )\n",
      "            (proj_query): Dense(768 -> 768, linear)\n",
      "            (proj_key): Dense(768 -> 768, linear)\n",
      "            (proj_value): Dense(768 -> 768, linear)\n",
      "          )\n",
      "          (proj): Dense(768 -> 768, linear)\n",
      "          (ffn): BERTPositionwiseFFN(\n",
      "            (ffn_1): Dense(768 -> 3072, linear)\n",
      "            (activation): GELU()\n",
      "            (ffn_2): Dense(3072 -> 768, linear)\n",
      "            (dropout_layer): Dropout(p = 0.1, axes=())\n",
      "            (layer_norm): BERTLayerNorm(eps=1e-12, axis=-1, center=True, scale=True, in_channels=768)\n",
      "          )\n",
      "          (layer_norm): BERTLayerNorm(eps=1e-12, axis=-1, center=True, scale=True, in_channels=768)\n",
      "        )\n",
      "        (11): BERTEncoderCell(\n",
      "          (dropout_layer): Dropout(p = 0.1, axes=())\n",
      "          (attention_cell): MultiHeadAttentionCell(\n",
      "            (_base_cell): DotProductAttentionCell(\n",
      "              (_dropout_layer): Dropout(p = 0.1, axes=())\n",
      "            )\n",
      "            (proj_query): Dense(768 -> 768, linear)\n",
      "            (proj_key): Dense(768 -> 768, linear)\n",
      "            (proj_value): Dense(768 -> 768, linear)\n",
      "          )\n",
      "          (proj): Dense(768 -> 768, linear)\n",
      "          (ffn): BERTPositionwiseFFN(\n",
      "            (ffn_1): Dense(768 -> 3072, linear)\n",
      "            (activation): GELU()\n",
      "            (ffn_2): Dense(3072 -> 768, linear)\n",
      "            (dropout_layer): Dropout(p = 0.1, axes=())\n",
      "            (layer_norm): BERTLayerNorm(eps=1e-12, axis=-1, center=True, scale=True, in_channels=768)\n",
      "          )\n",
      "          (layer_norm): BERTLayerNorm(eps=1e-12, axis=-1, center=True, scale=True, in_channels=768)\n",
      "        )\n",
      "      )\n",
      "    )\n",
      "    (word_embed): HybridSequential(\n",
      "      (0): Embedding(30522 -> 768, float32)\n",
      "      (1): Dropout(p = 0.1, axes=())\n",
      "    )\n",
      "    (token_type_embed): HybridSequential(\n",
      "      (0): Embedding(2 -> 768, float32)\n",
      "      (1): Dropout(p = 0.1, axes=())\n",
      "    )\n",
      "    (pooler): Dense(768 -> 768, Activation(tanh))\n",
      "  )\n",
      "  (classifier): HybridSequential(\n",
      "    (0): Dense(None -> 2, linear)\n",
      "  )\n",
      ")\n"
     ]
    }
   ],
   "source": [
    "ctx = d2l.try_all_gpus()\n",
    "bert_base, vocabulary = nlp.model.get_model('bert_12_768_12',\n",
    "                                            dataset_name='book_corpus_wiki_en_uncased',\n",
    "                                            pretrained=True, ctx=ctx,\n",
    "                                            use_decoder=False, use_classifier=False)\n",
    "loss_fn = mx.gluon.loss.SoftmaxCELoss()\n",
    "net = nlp.model.BERTClassifier(bert_base, 2)\n",
    "net.classifier.initialize(ctx=ctx)\n",
    "net.hybridize()\n",
    "print(net)"
   ]
  },
  {
   "cell_type": "markdown",
   "metadata": {
    "slideshow": {
     "slide_type": "slide"
    }
   },
   "source": [
    "## Data Preprocessing\n",
    "\n",
    "To use the pre-trained BERT model, we need to:\n",
    "- tokenize the inputs into word pieces,\n",
    "- insert [CLS] at the beginning of a sentence, \n",
    "- insert [SEP] at the end of a sentence, and\n",
    "- generate segment ids"
   ]
  },
  {
   "cell_type": "markdown",
   "metadata": {
    "slideshow": {
     "slide_type": "slide"
    }
   },
   "source": [
    "### Data Transformations"
   ]
  },
  {
   "cell_type": "markdown",
   "metadata": {
    "slideshow": {
     "slide_type": "skip"
    }
   },
   "source": [
    "We again use the IMDB dataset, but for this time, downloading using the GluonNLP data API. We then use the transform API to transform the raw scores to positive labels and negative labels. \n",
    "To process sentences with BERT-style '[CLS]', '[SEP]' tokens, you can use `data.BERTSentenceTransform` API."
   ]
  },
  {
   "cell_type": "code",
   "execution_count": 4,
   "metadata": {
    "ExecuteTime": {
     "end_time": "2019-07-26T22:44:57.188028Z",
     "start_time": "2019-07-26T22:44:57.181395Z"
    },
    "attributes": {
     "classes": [],
     "id": "",
     "n": "15"
    },
    "slideshow": {
     "slide_type": "-"
    }
   },
   "outputs": [
    {
     "name": "stdout",
     "output_type": "stream",
     "text": [
      "Downloading /home/ec2-user/.mxnet/datasets/imdb/train.json from https://apache-mxnet.s3-accelerate.dualstack.amazonaws.com/gluon/dataset/imdb/train.json...\n",
      "Downloading /home/ec2-user/.mxnet/datasets/imdb/test.json from https://apache-mxnet.s3-accelerate.dualstack.amazonaws.com/gluon/dataset/imdb/test.json...\n"
     ]
    }
   ],
   "source": [
    "train_dataset_raw = nlp.data.IMDB('train')\n",
    "train_dataset_raw = mx.gluon.data.SimpleDataset(train_dataset_raw[:100])\n",
    "test_dataset_raw = nlp.data.IMDB('test')\n",
    "test_dataset_raw = mx.gluon.data.SimpleDataset(test_dataset_raw[:100])\n",
    "\n",
    "tokenizer = nlp.data.BERTTokenizer(vocabulary)\n",
    "\n",
    "def transform_fn(data):\n",
    "    text, label = data\n",
    "    # Transform label into position / negative\n",
    "    label = 1 if label >= 5 else 0\n",
    "    transform = nlp.data.BERTSentenceTransform(tokenizer, max_seq_length=128,\n",
    "                                               pad=False, pair=False)\n",
    "    data, length, segment_type = transform([text])\n",
    "    data = data.astype('float32')\n",
    "    length = length.astype('float32')\n",
    "    segment_type = segment_type.astype('float32')\n",
    "    return data, length, segment_type, label"
   ]
  },
  {
   "cell_type": "code",
   "execution_count": 5,
   "metadata": {
    "ExecuteTime": {
     "end_time": "2019-07-26T22:44:57.197310Z",
     "start_time": "2019-07-26T22:44:57.189448Z"
    },
    "attributes": {
     "classes": [],
     "id": "",
     "n": "16"
    },
    "slideshow": {
     "slide_type": "subslide"
    }
   },
   "outputs": [
    {
     "name": "stdout",
     "output_type": "stream",
     "text": [
      "Vocab(size=30522, unk=\"[UNK]\", reserved=\"['[CLS]', '[SEP]', '[MASK]', '[PAD]']\")\n",
      "Index for [CLS] =  2\n",
      "Index for [SEP] =  3\n",
      "words =  [    2 22953  2213  4381  2152  2003  1037  9476  4038  1012  2009  2743\n",
      "  2012  1996  2168  2051  2004  2070  2060  3454  2055  2082  2166  1010\n",
      "  2107  2004  1000  5089  1000  1012  2026  3486  2086  1999  1996  4252\n",
      "  9518  2599  2033  2000  2903  2008 22953  2213  4381  2152  1005  1055\n",
      " 18312  2003  2172  3553  2000  4507  2084  2003  1000  5089  1000  1012\n",
      "  1996 25740  2000  5788 13732  1010  1996 12369  3993  2493  2040  2064\n",
      "  2156  2157  2083  2037 17203  5089  1005 13433  8737  1010  1996  9004\n",
      " 10196  4757  1997  1996  2878  3663  1010  2035 10825  2033  1997  1996\n",
      "  2816  1045  2354  1998  2037  2493  1012  2043  1045  2387  1996  2792\n",
      "  1999  2029  1037  3076  8385  2699  2000  6402  2091  1996  2082  1010\n",
      "  1045  3202  7383  1012  1012  1012  1012     3]\n"
     ]
    }
   ],
   "source": [
    "train_dataset = train_dataset_raw.transform(transform_fn)\n",
    "test_dataset = test_dataset_raw.transform(transform_fn)\n",
    "\n",
    "print(vocabulary)\n",
    "print('Index for [CLS] = ', vocabulary['[CLS]'])\n",
    "print('Index for [SEP] = ', vocabulary['[SEP]'])\n",
    "\n",
    "data, length, segment_type, label = train_dataset[0]\n",
    "print('words = ', data.astype('int32'))"
   ]
  },
  {
   "cell_type": "markdown",
   "metadata": {
    "slideshow": {
     "slide_type": "slide"
    }
   },
   "source": [
    "### Batchify and Data Loader"
   ]
  },
  {
   "cell_type": "code",
   "execution_count": 6,
   "metadata": {
    "ExecuteTime": {
     "end_time": "2019-07-26T22:44:57.481131Z",
     "start_time": "2019-07-26T22:44:57.204721Z"
    },
    "attributes": {
     "classes": [],
     "id": "",
     "n": "18"
    },
    "slideshow": {
     "slide_type": "-"
    }
   },
   "outputs": [],
   "source": [
    "padding_id = vocabulary[vocabulary.padding_token]\n",
    "batchify_fn = nlp.data.batchify.Tuple(\n",
    "        # words: the first dimension is the batch dimension\n",
    "        nlp.data.batchify.Pad(axis=0, pad_val=padding_id),\n",
    "        # valid length\n",
    "        nlp.data.batchify.Stack(),\n",
    "        # segment type : the first dimension is the batch dimension\n",
    "        nlp.data.batchify.Pad(axis=0, pad_val=padding_id),\n",
    "        # label\n",
    "        nlp.data.batchify.Stack(np.float32))\n",
    "\n",
    "batch_size = args.batch_size * len(ctx)\n",
    "train_data = mx.gluon.data.DataLoader(train_dataset,\n",
    "                                   batchify_fn=batchify_fn, shuffle=True,\n",
    "                                   batch_size=batch_size, num_workers=4)\n",
    "test_data = mx.gluon.data.DataLoader(test_dataset,\n",
    "                                  batchify_fn=batchify_fn,\n",
    "                                  shuffle=False, batch_size=batch_size, num_workers=4)"
   ]
  },
  {
   "cell_type": "markdown",
   "metadata": {
    "slideshow": {
     "slide_type": "slide"
    }
   },
   "source": [
    "### Training Loop"
   ]
  },
  {
   "cell_type": "markdown",
   "metadata": {
    "slideshow": {
     "slide_type": "notes"
    }
   },
   "source": [
    "Now we have all the pieces to put together, and we can finally start fine-tuning the\n",
    "model with a few epochs."
   ]
  },
  {
   "cell_type": "code",
   "execution_count": 7,
   "metadata": {
    "ExecuteTime": {
     "end_time": "2019-07-26T22:53:53.156467Z",
     "start_time": "2019-07-26T22:44:57.484026Z"
    },
    "attributes": {
     "classes": [],
     "id": "",
     "n": "19"
    },
    "scrolled": true,
    "slideshow": {
     "slide_type": "-"
    }
   },
   "outputs": [
    {
     "name": "stdout",
     "output_type": "stream",
     "text": [
      "Batch 0, Train Acc 0.01, Train Loss 1.0298542380332947\n",
      "Epoch 0, Train Acc ('accuracy', 0.01), Train Loss 1.0298542380332947\n",
      "Test Acc 0.0,\n",
      "Elapsed time (sec):  4.168322801589966\n"
     ]
    }
   ],
   "source": [
    "tick = time.time()\n",
    "train_loop(net, train_data, test_data, args.num_epochs, args.lr, ctx, loss_fn)\n",
    "tock = time.time()\n",
    "print('Elapsed time (sec): ', tock-tick)"
   ]
  },
  {
   "cell_type": "markdown",
   "metadata": {},
   "source": [
    "### Save model checkpoint "
   ]
  },
  {
   "cell_type": "code",
   "execution_count": 12,
   "metadata": {
    "scrolled": true
   },
   "outputs": [],
   "source": [
    "net.export('checkpoint')\n",
    "with open('vocab.json', 'w') as f:\n",
    "    f.write(vocabulary.to_json())"
   ]
  },
  {
   "cell_type": "markdown",
   "metadata": {
    "slideshow": {
     "slide_type": "slide"
    }
   },
   "source": [
    "### Inference"
   ]
  },
  {
   "cell_type": "code",
   "execution_count": 31,
   "metadata": {
    "ExecuteTime": {
     "end_time": "2019-07-26T22:53:53.190988Z",
     "start_time": "2019-07-26T22:53:53.159462Z"
    },
    "attributes": {
     "classes": [],
     "id": "",
     "n": "20"
    },
    "slideshow": {
     "slide_type": "-"
    }
   },
   "outputs": [
    {
     "data": {
      "text/plain": [
       "'positive'"
      ]
     },
     "execution_count": 31,
     "metadata": {},
     "output_type": "execute_result"
    }
   ],
   "source": [
    "predict_sentiment(net, ctx, vocabulary, tokenizer, 'this movie is so great')"
   ]
  },
  {
   "cell_type": "markdown",
   "metadata": {},
   "source": [
    "## Deploy on SageMaker\n",
    "### Upload checkpoint to S3"
   ]
  },
  {
   "cell_type": "code",
   "execution_count": null,
   "metadata": {},
   "outputs": [],
   "source": [
    "import sagemaker, tarfile\n",
    "\n",
    "tar = tarfile.open(\"model.tar.gz\", \"w:gz\")\n",
    "tar.add(\"checkpoint-0000.params\")\n",
    "tar.add(\"checkpoint-symbol.json\")\n",
    "tar.add(\"vocab.json\")\n",
    "tar.close()\n",
    "\n",
    "session = sagemaker.Session()\n",
    "uploaded_model = session.upload_data(path='model.tar.gz', key_prefix='model')\n",
    "s3_path = 's3://' + session.default_bucket() + '/model/model.tar.gz'\n",
    "print(\"Model was uploaded to\", s3_path)"
   ]
  },
  {
   "cell_type": "markdown",
   "metadata": {},
   "source": [
    "Login to elastic container registry service"
   ]
  },
  {
   "cell_type": "code",
   "execution_count": 163,
   "metadata": {},
   "outputs": [
    {
     "name": "stdout",
     "output_type": "stream",
     "text": [
      "Sending build context to Docker daemon    848MB\n",
      "Step 1/3 : FROM 763104351884.dkr.ecr.us-east-1.amazonaws.com/mxnet-inference:1.4.1-cpu-py3\n",
      " ---> 9a2aa1c6893e\n",
      "Step 2/3 : RUN pip install mxnet-mkl d2l https://github.com/dmlc/gluon-nlp/tarball/master -U --user\n",
      " ---> Running in 9ee594a0d5cd\n",
      "Collecting https://github.com/dmlc/gluon-nlp/tarball/master\n",
      "  Downloading https://github.com/dmlc/gluon-nlp/tarball/master\n",
      "Collecting mxnet-mkl\n",
      "  Downloading https://files.pythonhosted.org/packages/8d/d2/94dbb66de069ae47dcad4773c2968e9e950cff042c508bdd0e14f509230c/mxnet_mkl-1.5.1.post0-py2.py3-none-manylinux1_x86_64.whl (61.8MB)\n",
      "Collecting d2l\n",
      "  Downloading https://files.pythonhosted.org/packages/c9/d3/e9b92d14359953524609ed21f41508cfbba3814313668b125c904c7cc6e2/d2l-0.10.1.tar.gz\n",
      "Requirement already satisfied, skipping upgrade: numpy in /usr/local/lib/python3.6/site-packages (from gluonnlp==0.8.1.dev0) (1.14.6)\n",
      "Requirement already satisfied, skipping upgrade: graphviz<0.9.0,>=0.8.1 in /usr/local/lib/python3.6/site-packages (from mxnet-mkl) (0.8.4)\n",
      "Requirement already satisfied, skipping upgrade: requests<3,>=2.20.0 in /usr/local/lib/python3.6/site-packages (from mxnet-mkl) (2.22.0)\n",
      "Collecting jupyter (from d2l)\n",
      "  Downloading https://files.pythonhosted.org/packages/83/df/0f5dd132200728a86190397e1ea87cd76244e42d39ec5e88efd25b2abd7e/jupyter-1.0.0-py2.py3-none-any.whl\n",
      "Collecting matplotlib (from d2l)\n",
      "  Downloading https://files.pythonhosted.org/packages/57/4f/dd381ecf6c6ab9bcdaa8ea912e866dedc6e696756156d8ecc087e20817e2/matplotlib-3.1.1-cp36-cp36m-manylinux1_x86_64.whl (13.1MB)\n",
      "Collecting pandas (from d2l)\n",
      "  Downloading https://files.pythonhosted.org/packages/73/9b/52e228545d14f14bb2a1622e225f38463c8726645165e1cb7dde95bfe6d4/pandas-0.25.1-cp36-cp36m-manylinux1_x86_64.whl (10.5MB)\n",
      "Requirement already satisfied, skipping upgrade: chardet<3.1.0,>=3.0.2 in /usr/local/lib/python3.6/site-packages (from requests<3,>=2.20.0->mxnet-mkl) (3.0.4)\n",
      "Requirement already satisfied, skipping upgrade: idna<2.9,>=2.5 in /usr/local/lib/python3.6/site-packages (from requests<3,>=2.20.0->mxnet-mkl) (2.8)\n",
      "Requirement already satisfied, skipping upgrade: urllib3!=1.25.0,!=1.25.1,<1.26,>=1.21.1 in /usr/local/lib/python3.6/site-packages (from requests<3,>=2.20.0->mxnet-mkl) (1.25.3)\n",
      "Requirement already satisfied, skipping upgrade: certifi>=2017.4.17 in /usr/local/lib/python3.6/site-packages (from requests<3,>=2.20.0->mxnet-mkl) (2019.6.16)\n",
      "Collecting ipywidgets (from jupyter->d2l)\n",
      "  Downloading https://files.pythonhosted.org/packages/56/a0/dbcf5881bb2f51e8db678211907f16ea0a182b232c591a6d6f276985ca95/ipywidgets-7.5.1-py2.py3-none-any.whl (121kB)\n",
      "Collecting qtconsole (from jupyter->d2l)\n",
      "  Downloading https://files.pythonhosted.org/packages/d0/fc/4936c60be8d56acedfefcc13cf9f3d881e4036147d78e86160463c92d1b7/qtconsole-4.5.5-py2.py3-none-any.whl (121kB)\n",
      "Collecting jupyter-console (from jupyter->d2l)\n",
      "  Downloading https://files.pythonhosted.org/packages/cb/ee/6374ae8c21b7d0847f9c3722dcdfac986b8e54fa9ad9ea66e1eb6320d2b8/jupyter_console-6.0.0-py2.py3-none-any.whl\n",
      "Collecting notebook (from jupyter->d2l)\n",
      "  Downloading https://files.pythonhosted.org/packages/f3/a1/1e07cedcb554408fefe4a7d32b2a041c86517167aec6ca8251c808ef6c1e/notebook-6.0.1-py3-none-any.whl (9.0MB)\n",
      "Collecting ipykernel (from jupyter->d2l)\n",
      "  Downloading https://files.pythonhosted.org/packages/d4/16/43f51f65a8a08addf04f909a0938b06ba1ee1708b398a9282474531bd893/ipykernel-5.1.2-py3-none-any.whl (116kB)\n",
      "Collecting nbconvert (from jupyter->d2l)\n",
      "  Downloading https://files.pythonhosted.org/packages/f9/df/4505c0a7fea624cac461d0f41051f33456ae656753f65cee8c2f43121cb2/nbconvert-5.6.0-py2.py3-none-any.whl (453kB)\n",
      "Collecting cycler>=0.10 (from matplotlib->d2l)\n",
      "  Downloading https://files.pythonhosted.org/packages/f7/d2/e07d3ebb2bd7af696440ce7e754c59dd546ffe1bbe732c8ab68b9c834e61/cycler-0.10.0-py2.py3-none-any.whl\n",
      "Collecting python-dateutil>=2.1 (from matplotlib->d2l)\n",
      "  Downloading https://files.pythonhosted.org/packages/41/17/c62faccbfbd163c7f57f3844689e3a78bae1f403648a6afb1d0866d87fbb/python_dateutil-2.8.0-py2.py3-none-any.whl (226kB)\n",
      "Collecting kiwisolver>=1.0.1 (from matplotlib->d2l)\n",
      "  Downloading https://files.pythonhosted.org/packages/f8/a1/5742b56282449b1c0968197f63eae486eca2c35dcd334bab75ad524e0de1/kiwisolver-1.1.0-cp36-cp36m-manylinux1_x86_64.whl (90kB)\n",
      "Collecting pyparsing!=2.0.4,!=2.1.2,!=2.1.6,>=2.0.1 (from matplotlib->d2l)\n",
      "  Downloading https://files.pythonhosted.org/packages/11/fa/0160cd525c62d7abd076a070ff02b2b94de589f1a9789774f17d7c54058e/pyparsing-2.4.2-py2.py3-none-any.whl (65kB)\n",
      "Collecting pytz>=2017.2 (from pandas->d2l)\n",
      "  Downloading https://files.pythonhosted.org/packages/87/76/46d697698a143e05f77bec5a526bf4e56a0be61d63425b68f4ba553b51f2/pytz-2019.2-py2.py3-none-any.whl (508kB)\n",
      "Collecting nbformat>=4.2.0 (from ipywidgets->jupyter->d2l)\n",
      "  Downloading https://files.pythonhosted.org/packages/da/27/9a654d2b6cc1eaa517d1c5a4405166c7f6d72f04f6e7eea41855fe808a46/nbformat-4.4.0-py2.py3-none-any.whl (155kB)\n",
      "Collecting traitlets>=4.3.1 (from ipywidgets->jupyter->d2l)\n",
      "  Downloading https://files.pythonhosted.org/packages/ca/ab/872a23e29cec3cf2594af7e857f18b687ad21039c1f9b922fac5b9b142d5/traitlets-4.3.3-py2.py3-none-any.whl (75kB)\n",
      "Collecting widgetsnbextension~=3.5.0 (from ipywidgets->jupyter->d2l)\n",
      "  Downloading https://files.pythonhosted.org/packages/6c/7b/7ac231c20d2d33c445eaacf8a433f4e22c60677eb9776c7c5262d7ddee2d/widgetsnbextension-3.5.1-py2.py3-none-any.whl (2.2MB)\n",
      "Collecting ipython>=4.0.0; python_version >= \"3.3\" (from ipywidgets->jupyter->d2l)\n",
      "  Downloading https://files.pythonhosted.org/packages/fb/44/f28a13852e562af719f9de1761680a84a93e8b4c50e22d00d68f60ee2e8b/ipython-7.8.0-py3-none-any.whl (775kB)\n",
      "Collecting pygments (from qtconsole->jupyter->d2l)\n",
      "  Downloading https://files.pythonhosted.org/packages/5c/73/1dfa428150e3ccb0fa3e68db406e5be48698f2a979ccbcec795f28f44048/Pygments-2.4.2-py2.py3-none-any.whl (883kB)\n",
      "Collecting ipython-genutils (from qtconsole->jupyter->d2l)\n",
      "  Downloading https://files.pythonhosted.org/packages/fa/bc/9bd3b5c2b4774d5f33b2d544f1460be9df7df2fe42f352135381c347c69a/ipython_genutils-0.2.0-py2.py3-none-any.whl\n",
      "Collecting jupyter-client>=4.1 (from qtconsole->jupyter->d2l)\n",
      "  Downloading https://files.pythonhosted.org/packages/07/61/0b923eefa2faa34d896665f136a0a6c26d721e910a661437cc615a0dc4ed/jupyter_client-5.3.3-py2.py3-none-any.whl (93kB)\n",
      "Collecting jupyter-core (from qtconsole->jupyter->d2l)\n",
      "  Downloading https://files.pythonhosted.org/packages/e6/25/6ffb0f6e57fa6ef5d2f814377133b361b42a6dd39105f4885a4f1666c2c3/jupyter_core-4.5.0-py2.py3-none-any.whl (78kB)\n",
      "Collecting prompt-toolkit<2.1.0,>=2.0.0 (from jupyter-console->jupyter->d2l)\n",
      "  Downloading https://files.pythonhosted.org/packages/87/61/2dfea88583d5454e3a64f9308a686071d58d59a55db638268a6413e1eb6d/prompt_toolkit-2.0.10-py3-none-any.whl (340kB)\n",
      "Collecting pyzmq>=17 (from notebook->jupyter->d2l)\n",
      "  Downloading https://files.pythonhosted.org/packages/75/89/6f0ea51ffa9c2c00c0ab0460f137b16a5ab5b47e3b060c5b1fc9ca425836/pyzmq-18.1.0-cp36-cp36m-manylinux1_x86_64.whl (1.1MB)\n",
      "Collecting Send2Trash (from notebook->jupyter->d2l)\n",
      "  Downloading https://files.pythonhosted.org/packages/49/46/c3dc27481d1cc57b9385aff41c474ceb7714f7935b1247194adae45db714/Send2Trash-1.5.0-py3-none-any.whl\n",
      "Collecting prometheus-client (from notebook->jupyter->d2l)\n",
      "  Downloading https://files.pythonhosted.org/packages/b3/23/41a5a24b502d35a4ad50a5bb7202a5e1d9a0364d0c12f56db3dbf7aca76d/prometheus_client-0.7.1.tar.gz\n",
      "Collecting jinja2 (from notebook->jupyter->d2l)\n",
      "  Downloading https://files.pythonhosted.org/packages/1d/e7/fd8b501e7a6dfe492a433deb7b9d833d39ca74916fa8bc63dd1a4947a671/Jinja2-2.10.1-py2.py3-none-any.whl (124kB)\n",
      "Collecting terminado>=0.8.1 (from notebook->jupyter->d2l)\n",
      "  Downloading https://files.pythonhosted.org/packages/a7/56/80ea7fa66565fa75ae21ce0c16bc90067530e5d15e48854afcc86585a391/terminado-0.8.2-py2.py3-none-any.whl\n",
      "Collecting tornado>=5.0 (from notebook->jupyter->d2l)\n",
      "  Downloading https://files.pythonhosted.org/packages/30/78/2d2823598496127b21423baffaa186b668f73cd91887fcef78b6eade136b/tornado-6.0.3.tar.gz (482kB)\n",
      "Collecting testpath (from nbconvert->jupyter->d2l)\n",
      "  Downloading https://files.pythonhosted.org/packages/be/a4/162f9ebb6489421fe46dcca2ae420369edfee4b563c668d93cb4605d12ba/testpath-0.4.2-py2.py3-none-any.whl (163kB)\n",
      "Collecting entrypoints>=0.2.2 (from nbconvert->jupyter->d2l)\n",
      "  Downloading https://files.pythonhosted.org/packages/ac/c6/44694103f8c221443ee6b0041f69e2740d89a25641e62fb4f2ee568f2f9c/entrypoints-0.3-py2.py3-none-any.whl\n"
     ]
    },
    {
     "name": "stdout",
     "output_type": "stream",
     "text": [
      "Collecting pandocfilters>=1.4.1 (from nbconvert->jupyter->d2l)\n",
      "  Downloading https://files.pythonhosted.org/packages/4c/ea/236e2584af67bb6df960832731a6e5325fd4441de001767da328c33368ce/pandocfilters-1.4.2.tar.gz\n",
      "Collecting bleach (from nbconvert->jupyter->d2l)\n",
      "  Downloading https://files.pythonhosted.org/packages/ab/05/27e1466475e816d3001efb6e0a85a819be17411420494a1e602c36f8299d/bleach-3.1.0-py2.py3-none-any.whl (157kB)\n",
      "Collecting mistune<2,>=0.8.1 (from nbconvert->jupyter->d2l)\n",
      "  Downloading https://files.pythonhosted.org/packages/09/ec/4b43dae793655b7d8a25f76119624350b4d65eb663459eb9603d7f1f0345/mistune-0.8.4-py2.py3-none-any.whl\n",
      "Collecting defusedxml (from nbconvert->jupyter->d2l)\n",
      "  Downloading https://files.pythonhosted.org/packages/06/74/9b387472866358ebc08732de3da6dc48e44b0aacd2ddaa5cb85ab7e986a2/defusedxml-0.6.0-py2.py3-none-any.whl\n",
      "Requirement already satisfied, skipping upgrade: six in /usr/local/lib/python3.6/site-packages (from cycler>=0.10->matplotlib->d2l) (1.12.0)\n",
      "Requirement already satisfied, skipping upgrade: setuptools in /usr/local/lib/python3.6/site-packages (from kiwisolver>=1.0.1->matplotlib->d2l) (41.0.1)\n",
      "Collecting jsonschema!=2.5.0,>=2.4 (from nbformat>=4.2.0->ipywidgets->jupyter->d2l)\n",
      "  Downloading https://files.pythonhosted.org/packages/54/48/f5f11003ceddcd4ad292d4d9b5677588e9169eef41f88e38b2888e7ec6c4/jsonschema-3.0.2-py2.py3-none-any.whl (54kB)\n",
      "Collecting decorator (from traitlets>=4.3.1->ipywidgets->jupyter->d2l)\n",
      "  Downloading https://files.pythonhosted.org/packages/5f/88/0075e461560a1e750a0dcbf77f1d9de775028c37a19a346a6c565a257399/decorator-4.4.0-py2.py3-none-any.whl\n",
      "Collecting pickleshare (from ipython>=4.0.0; python_version >= \"3.3\"->ipywidgets->jupyter->d2l)\n",
      "  Downloading https://files.pythonhosted.org/packages/9a/41/220f49aaea88bc6fa6cba8d05ecf24676326156c23b991e80b3f2fc24c77/pickleshare-0.7.5-py2.py3-none-any.whl\n",
      "Collecting backcall (from ipython>=4.0.0; python_version >= \"3.3\"->ipywidgets->jupyter->d2l)\n",
      "  Downloading https://files.pythonhosted.org/packages/84/71/c8ca4f5bb1e08401b916c68003acf0a0655df935d74d93bf3f3364b310e0/backcall-0.1.0.tar.gz\n",
      "Collecting jedi>=0.10 (from ipython>=4.0.0; python_version >= \"3.3\"->ipywidgets->jupyter->d2l)\n",
      "  Downloading https://files.pythonhosted.org/packages/55/54/da994f359e4e7da4776a200e76dbc85ba5fc319eefc22e33d55296d95a1d/jedi-0.15.1-py2.py3-none-any.whl (1.0MB)\n",
      "Collecting pexpect; sys_platform != \"win32\" (from ipython>=4.0.0; python_version >= \"3.3\"->ipywidgets->jupyter->d2l)\n",
      "  Downloading https://files.pythonhosted.org/packages/0e/3e/377007e3f36ec42f1b84ec322ee12141a9e10d808312e5738f52f80a232c/pexpect-4.7.0-py2.py3-none-any.whl (58kB)\n",
      "Collecting wcwidth (from prompt-toolkit<2.1.0,>=2.0.0->jupyter-console->jupyter->d2l)\n",
      "  Downloading https://files.pythonhosted.org/packages/7e/9f/526a6947247599b084ee5232e4f9190a38f398d7300d866af3ab571a5bfe/wcwidth-0.1.7-py2.py3-none-any.whl\n",
      "Collecting MarkupSafe>=0.23 (from jinja2->notebook->jupyter->d2l)\n",
      "  Downloading https://files.pythonhosted.org/packages/b2/5f/23e0023be6bb885d00ffbefad2942bc51a620328ee910f64abe5a8d18dd1/MarkupSafe-1.1.1-cp36-cp36m-manylinux1_x86_64.whl\n",
      "Collecting ptyprocess; os_name != \"nt\" (from terminado>=0.8.1->notebook->jupyter->d2l)\n",
      "  Downloading https://files.pythonhosted.org/packages/d1/29/605c2cc68a9992d18dada28206eeada56ea4bd07a239669da41674648b6f/ptyprocess-0.6.0-py2.py3-none-any.whl\n",
      "Collecting webencodings (from bleach->nbconvert->jupyter->d2l)\n",
      "  Downloading https://files.pythonhosted.org/packages/f4/24/2a3e3df732393fed8b3ebf2ec078f05546de641fe1b667ee316ec1dcf3b7/webencodings-0.5.1-py2.py3-none-any.whl\n",
      "Collecting attrs>=17.4.0 (from jsonschema!=2.5.0,>=2.4->nbformat>=4.2.0->ipywidgets->jupyter->d2l)\n",
      "  Downloading https://files.pythonhosted.org/packages/6b/e8/2ecaf86b128a34e225807f03b22664302937ab826bd3b7eccab6754d29ea/attrs-19.2.0-py2.py3-none-any.whl (40kB)\n",
      "Collecting pyrsistent>=0.14.0 (from jsonschema!=2.5.0,>=2.4->nbformat>=4.2.0->ipywidgets->jupyter->d2l)\n",
      "  Downloading https://files.pythonhosted.org/packages/b9/66/b2638d96a2d128b168d0dba60fdc77b7800a9b4a5340cefcc5fc4eae6295/pyrsistent-0.15.4.tar.gz (107kB)\n",
      "Collecting parso>=0.5.0 (from jedi>=0.10->ipython>=4.0.0; python_version >= \"3.3\"->ipywidgets->jupyter->d2l)\n",
      "  Downloading https://files.pythonhosted.org/packages/a3/bd/bf4e5bd01d79906e5b945a7af033154da49fd2b0d5b5c705a21330323305/parso-0.5.1-py2.py3-none-any.whl (95kB)\n",
      "\u001b[91mERROR: mxnet-mkl 1.5.1.post0 has requirement numpy<2.0.0,>1.16.0, but you'll have numpy 1.14.6 which is incompatible.\n",
      "\u001b[0mInstalling collected packages: mxnet-mkl, decorator, ipython-genutils, traitlets, jupyter-core, attrs, pyrsistent, jsonschema, nbformat, pyzmq, Send2Trash, prometheus-client, python-dateutil, tornado, jupyter-client, MarkupSafe, jinja2, ptyprocess, terminado, pygments, wcwidth, prompt-toolkit, pickleshare, backcall, parso, jedi, pexpect, ipython, ipykernel, testpath, entrypoints, pandocfilters, webencodings, bleach, mistune, defusedxml, nbconvert, notebook, widgetsnbextension, ipywidgets, qtconsole, jupyter-console, jupyter, cycler, kiwisolver, pyparsing, matplotlib, pytz, pandas, d2l, gluonnlp\n",
      "\u001b[91m  WARNING: The scripts jupyter, jupyter-migrate and jupyter-troubleshoot are installed in '/root/.local/bin' which is not on PATH.\n",
      "  Consider adding this directory to PATH or, if you prefer to suppress this warning, use --no-warn-script-location.\n",
      "\u001b[0m  Running setup.py install for pyrsistent: started\n",
      "    Running setup.py install for pyrsistent: finished with status 'done'\n",
      "\u001b[91m  WARNING: The script jsonschema is installed in '/root/.local/bin' which is not on PATH.\n",
      "  Consider adding this directory to PATH or, if you prefer to suppress this warning, use --no-warn-script-location.\n",
      "\u001b[0m\u001b[91m  WARNING: The script jupyter-trust is installed in '/root/.local/bin' which is not on PATH.\n",
      "  Consider adding this directory to PATH or, if you prefer to suppress this warning, use --no-warn-script-location.\n",
      "\u001b[0m  Running setup.py install for prometheus-client: started\n",
      "    Running setup.py install for prometheus-client: finished with status 'done'\n",
      "  Running setup.py install for tornado: started\n",
      "    Running setup.py install for tornado: finished with status 'done'\n",
      "\u001b[91m  WARNING: The scripts jupyter-kernel, jupyter-kernelspec and jupyter-run are installed in '/root/.local/bin' which is not on PATH.\n",
      "  Consider adding this directory to PATH or, if you prefer to suppress this warning, use --no-warn-script-location.\n",
      "\u001b[0m\u001b[91m  WARNING: The script pygmentize is installed in '/root/.local/bin' which is not on PATH.\n",
      "  Consider adding this directory to PATH or, if you prefer to suppress this warning, use --no-warn-script-location.\n",
      "\u001b[0m  Running setup.py install for backcall: started\n",
      "    Running setup.py install for backcall: finished with status 'done'\n",
      "\u001b[91m  WARNING: The scripts iptest, iptest3, ipython and ipython3 are installed in '/root/.local/bin' which is not on PATH.\n",
      "  Consider adding this directory to PATH or, if you prefer to suppress this warning, use --no-warn-script-location.\n",
      "\u001b[0m  Running setup.py install for pandocfilters: started\n",
      "    Running setup.py install for pandocfilters: finished with status 'done'\n",
      "\u001b[91m  WARNING: The script jupyter-nbconvert is installed in '/root/.local/bin' which is not on PATH.\n",
      "  Consider adding this directory to PATH or, if you prefer to suppress this warning, use --no-warn-script-location.\n",
      "\u001b[0m\u001b[91m  WARNING: The scripts jupyter-bundlerextension, jupyter-nbextension, jupyter-notebook and jupyter-serverextension are installed in '/root/.local/bin' which is not on PATH.\n",
      "  Consider adding this directory to PATH or, if you prefer to suppress this warning, use --no-warn-script-location.\n",
      "\u001b[0m\u001b[91m  WARNING: The script jupyter-console is installed in '/root/.local/bin' which is not on PATH.\n",
      "  Consider adding this directory to PATH or, if you prefer to suppress this warning, use --no-warn-script-location.\n",
      "\u001b[0m  Running setup.py install for d2l: started\n",
      "    Running setup.py install for d2l: finished with status 'done'\n",
      "  Running setup.py install for gluonnlp: started\n",
      "    Running setup.py install for gluonnlp: finished with status 'done'\n",
      "Successfully installed MarkupSafe-1.1.1 Send2Trash-1.5.0 attrs-19.2.0 backcall-0.1.0 bleach-3.1.0 cycler-0.10.0 d2l-0.10.1 decorator-4.4.0 defusedxml-0.6.0 entrypoints-0.3 gluonnlp-0.8.1.dev0 ipykernel-5.1.2 ipython-7.8.0 ipython-genutils-0.2.0 ipywidgets-7.5.1 jedi-0.15.1 jinja2-2.10.1 jsonschema-3.0.2 jupyter-1.0.0 jupyter-client-5.3.3 jupyter-console-6.0.0 jupyter-core-4.5.0 kiwisolver-1.1.0 matplotlib-3.1.1 mistune-0.8.4 mxnet-mkl-1.5.1.post0 nbconvert-5.6.0 nbformat-4.4.0 notebook-6.0.1 pandas-0.25.1 pandocfilters-1.4.2 parso-0.5.1 pexpect-4.7.0 pickleshare-0.7.5 prometheus-client-0.7.1 prompt-toolkit-2.0.10 ptyprocess-0.6.0 pygments-2.4.2 pyparsing-2.4.2 pyrsistent-0.15.4 python-dateutil-2.8.0 pytz-2019.2 pyzmq-18.1.0 qtconsole-4.5.5 terminado-0.8.2 testpath-0.4.2 tornado-6.0.3 traitlets-4.3.3 wcwidth-0.1.7 webencodings-0.5.1 widgetsnbextension-3.5.1\n"
     ]
    },
    {
     "name": "stdout",
     "output_type": "stream",
     "text": [
      "\u001b[91mWARNING: You are using pip version 19.1.1, however version 19.2.3 is available.\n",
      "You should consider upgrading via the 'pip install --upgrade pip' command.\n",
      "\u001b[0mRemoving intermediate container 9ee594a0d5cd\n",
      " ---> c268be8e81fb\n",
      "Step 3/3 : COPY *.py /opt/ml/model/code/\n",
      " ---> 3f65c2d3f1c0\n",
      "Successfully built 3f65c2d3f1c0\n",
      "Successfully tagged 397262719838.dkr.ecr.us-east-1.amazonaws.com/haibin-test:inference\n"
     ]
    }
   ],
   "source": [
    "!$(aws ecr get-login --no-include-email --region us-east-1)\n",
    "!docker build -t 397262719838.dkr.ecr.us-east-1.amazonaws.com/haibin-test:inference . -f Dockerfile\n",
    "!docker push 397262719838.dkr.ecr.us-east-1.amazonaws.com/haibin-test:inference"
   ]
  },
  {
   "cell_type": "code",
   "execution_count": 183,
   "metadata": {},
   "outputs": [],
   "source": [
    "from sagemaker.mxnet.model import MXNetModel\n",
    "\n",
    "sagemaker_model = MXNetModel(model_data=s3_path,\n",
    "                             image='397262719838.dkr.ecr.us-east-1.amazonaws.com/haibin-test:inference',\n",
    "                             role=sagemaker.get_execution_role(),\n",
    "                             py_version='py3',\n",
    "                             framework_version='1.4.1',\n",
    "                             entry_point='serve.py',\n",
    "                             source_dir='.')"
   ]
  },
  {
   "cell_type": "code",
   "execution_count": 186,
   "metadata": {
    "scrolled": true
   },
   "outputs": [
    {
     "name": "stdout",
     "output_type": "stream",
     "text": [
      "Attaching to tmppfeynr4a_algo-1-n3hmx_1\n",
      "\u001b[36malgo-1-n3hmx_1  |\u001b[0m 2019-10-04 06:57:54,888 [INFO ] main com.amazonaws.ml.mms.ModelServer - \n",
      "\u001b[36malgo-1-n3hmx_1  |\u001b[0m MMS Home: /usr/local/lib/python3.6/site-packages\n",
      "\u001b[36malgo-1-n3hmx_1  |\u001b[0m Current directory: /\n",
      "\u001b[36malgo-1-n3hmx_1  |\u001b[0m Temp directory: /home/model-server/tmp\n",
      "\u001b[36malgo-1-n3hmx_1  |\u001b[0m Number of GPUs: 0\n",
      "\u001b[36malgo-1-n3hmx_1  |\u001b[0m Number of CPUs: 32\n",
      "\u001b[36malgo-1-n3hmx_1  |\u001b[0m Max heap size: 27305 M\n",
      "\u001b[36malgo-1-n3hmx_1  |\u001b[0m Python executable: /usr/local/bin/python3.6\n",
      "\u001b[36malgo-1-n3hmx_1  |\u001b[0m Config file: /etc/sagemaker-mms.properties\n",
      "\u001b[36malgo-1-n3hmx_1  |\u001b[0m Inference address: http://0.0.0.0:8080\n",
      "\u001b[36malgo-1-n3hmx_1  |\u001b[0m Management address: http://127.0.0.1:8081\n",
      "\u001b[36malgo-1-n3hmx_1  |\u001b[0m Model Store: /.sagemaker/mms/models\n",
      "\u001b[36malgo-1-n3hmx_1  |\u001b[0m Initial Models: ALL\n",
      "\u001b[36malgo-1-n3hmx_1  |\u001b[0m Log dir: /logs\n",
      "\u001b[36malgo-1-n3hmx_1  |\u001b[0m Metrics dir: /logs\n",
      "\u001b[36malgo-1-n3hmx_1  |\u001b[0m Netty threads: 0\n",
      "\u001b[36malgo-1-n3hmx_1  |\u001b[0m Netty client threads: 0\n",
      "\u001b[36malgo-1-n3hmx_1  |\u001b[0m Default workers per model: 32\n",
      "\u001b[36malgo-1-n3hmx_1  |\u001b[0m Blacklist Regex: N/A\n",
      "\u001b[36malgo-1-n3hmx_1  |\u001b[0m Maximum Response Size: 6553500\n",
      "\u001b[36malgo-1-n3hmx_1  |\u001b[0m Maximum Request Size: 6553500\n",
      "\u001b[36malgo-1-n3hmx_1  |\u001b[0m 2019-10-04 06:57:54,939 [INFO ] main com.amazonaws.ml.mms.wlm.ModelManager - Model model loaded.\n",
      "\u001b[36malgo-1-n3hmx_1  |\u001b[0m 2019-10-04 06:57:55,087 [INFO ] W-9007-model-stdout com.amazonaws.ml.mms.wlm.WorkerLifeCycle - Listening on port: /home/model-server/tmp/.mms.sock.9007\n",
      "\u001b[36malgo-1-n3hmx_1  |\u001b[0m 2019-10-04 06:57:55,087 [INFO ] W-9007-model-stdout com.amazonaws.ml.mms.wlm.WorkerLifeCycle - [PID]169\n",
      "\u001b[36malgo-1-n3hmx_1  |\u001b[0m 2019-10-04 06:57:55,095 [INFO ] W-9007-model-stdout com.amazonaws.ml.mms.wlm.WorkerLifeCycle - MXNet worker started.\n",
      "\u001b[36malgo-1-n3hmx_1  |\u001b[0m 2019-10-04 06:57:55,095 [INFO ] W-9007-model-stdout com.amazonaws.ml.mms.wlm.WorkerLifeCycle - Python runtime: 3.6.8\n",
      "\u001b[36malgo-1-n3hmx_1  |\u001b[0m 2019-10-04 06:57:55,105 [INFO ] main com.amazonaws.ml.mms.ModelServer - Initialize Inference server with: EpollServerSocketChannel.\n",
      "\u001b[36malgo-1-n3hmx_1  |\u001b[0m 2019-10-04 06:57:55,108 [INFO ] W-9007-model com.amazonaws.ml.mms.wlm.WorkerThread - Connecting to: /home/model-server/tmp/.mms.sock.9007\n",
      "\u001b[36malgo-1-n3hmx_1  |\u001b[0m 2019-10-04 06:57:55,109 [INFO ] W-9006-model-stdout com.amazonaws.ml.mms.wlm.WorkerLifeCycle - Listening on port: /home/model-server/tmp/.mms.sock.9006\n",
      "\u001b[36malgo-1-n3hmx_1  |\u001b[0m 2019-10-04 06:57:55,110 [INFO ] W-9006-model-stdout com.amazonaws.ml.mms.wlm.WorkerLifeCycle - [PID]170\n",
      "\u001b[36malgo-1-n3hmx_1  |\u001b[0m 2019-10-04 06:57:55,111 [INFO ] W-9006-model-stdout com.amazonaws.ml.mms.wlm.WorkerLifeCycle - MXNet worker started.\n",
      "\u001b[36malgo-1-n3hmx_1  |\u001b[0m 2019-10-04 06:57:55,112 [INFO ] W-9006-model-stdout com.amazonaws.ml.mms.wlm.WorkerLifeCycle - Python runtime: 3.6.8\n",
      "\u001b[36malgo-1-n3hmx_1  |\u001b[0m 2019-10-04 06:57:55,112 [INFO ] W-9006-model com.amazonaws.ml.mms.wlm.WorkerThread - Connecting to: /home/model-server/tmp/.mms.sock.9006\n",
      "\u001b[36malgo-1-n3hmx_1  |\u001b[0m 2019-10-04 06:57:55,118 [INFO ] W-9002-model-stdout com.amazonaws.ml.mms.wlm.WorkerLifeCycle - Listening on port: /home/model-server/tmp/.mms.sock.9002\n",
      "\u001b[36malgo-1-n3hmx_1  |\u001b[0m 2019-10-04 06:57:55,119 [INFO ] W-9002-model-stdout com.amazonaws.ml.mms.wlm.WorkerLifeCycle - [PID]173\n",
      "\u001b[36malgo-1-n3hmx_1  |\u001b[0m 2019-10-04 06:57:55,121 [INFO ] W-9002-model-stdout com.amazonaws.ml.mms.wlm.WorkerLifeCycle - MXNet worker started.\n",
      "\u001b[36malgo-1-n3hmx_1  |\u001b[0m 2019-10-04 06:57:55,121 [INFO ] W-9002-model com.amazonaws.ml.mms.wlm.WorkerThread - Connecting to: /home/model-server/tmp/.mms.sock.9002\n",
      "\u001b[36malgo-1-n3hmx_1  |\u001b[0m 2019-10-04 06:57:55,121 [INFO ] W-9002-model-stdout com.amazonaws.ml.mms.wlm.WorkerLifeCycle - Python runtime: 3.6.8\n",
      "\u001b[36malgo-1-n3hmx_1  |\u001b[0m 2019-10-04 06:57:55,129 [INFO ] W-9010-model-stdout com.amazonaws.ml.mms.wlm.WorkerLifeCycle - Listening on port: /home/model-server/tmp/.mms.sock.9010\n",
      "\u001b[36malgo-1-n3hmx_1  |\u001b[0m 2019-10-04 06:57:55,129 [INFO ] W-9010-model-stdout com.amazonaws.ml.mms.wlm.WorkerLifeCycle - [PID]177\n",
      "\u001b[36malgo-1-n3hmx_1  |\u001b[0m 2019-10-04 06:57:55,130 [INFO ] W-9010-model-stdout com.amazonaws.ml.mms.wlm.WorkerLifeCycle - MXNet worker started.\n",
      "\u001b[36malgo-1-n3hmx_1  |\u001b[0m 2019-10-04 06:57:55,130 [INFO ] W-9010-model com.amazonaws.ml.mms.wlm.WorkerThread - Connecting to: /home/model-server/tmp/.mms.sock.9010\n",
      "\u001b[36malgo-1-n3hmx_1  |\u001b[0m 2019-10-04 06:57:55,131 [INFO ] W-9010-model-stdout com.amazonaws.ml.mms.wlm.WorkerLifeCycle - Python runtime: 3.6.8\n",
      "\u001b[36malgo-1-n3hmx_1  |\u001b[0m 2019-10-04 06:57:55,133 [INFO ] W-9009-model-stdout com.amazonaws.ml.mms.wlm.WorkerLifeCycle - Listening on port: /home/model-server/tmp/.mms.sock.9009\n",
      "\u001b[36malgo-1-n3hmx_1  |\u001b[0m 2019-10-04 06:57:55,133 [INFO ] W-9009-model-stdout com.amazonaws.ml.mms.wlm.WorkerLifeCycle - [PID]223\n",
      "\u001b[36malgo-1-n3hmx_1  |\u001b[0m 2019-10-04 06:57:55,133 [INFO ] W-9003-model-stdout com.amazonaws.ml.mms.wlm.WorkerLifeCycle - Listening on port: /home/model-server/tmp/.mms.sock.9003\n",
      "\u001b[36malgo-1-n3hmx_1  |\u001b[0m 2019-10-04 06:57:55,134 [INFO ] W-9009-model-stdout com.amazonaws.ml.mms.wlm.WorkerLifeCycle - MXNet worker started.\n",
      "\u001b[36malgo-1-n3hmx_1  |\u001b[0m 2019-10-04 06:57:55,134 [INFO ] W-9009-model com.amazonaws.ml.mms.wlm.WorkerThread - Connecting to: /home/model-server/tmp/.mms.sock.9009\n",
      "\u001b[36malgo-1-n3hmx_1  |\u001b[0m 2019-10-04 06:57:55,134 [INFO ] W-9003-model-stdout com.amazonaws.ml.mms.wlm.WorkerLifeCycle - [PID]168\n",
      "\u001b[36malgo-1-n3hmx_1  |\u001b[0m 2019-10-04 06:57:55,134 [INFO ] W-9003-model-stdout com.amazonaws.ml.mms.wlm.WorkerLifeCycle - MXNet worker started.\n",
      "\u001b[36malgo-1-n3hmx_1  |\u001b[0m 2019-10-04 06:57:55,135 [INFO ] W-9005-model-stdout com.amazonaws.ml.mms.wlm.WorkerLifeCycle - Listening on port: /home/model-server/tmp/.mms.sock.9005\n",
      "\u001b[36malgo-1-n3hmx_1  |\u001b[0m 2019-10-04 06:57:55,134 [INFO ] W-9003-model com.amazonaws.ml.mms.wlm.WorkerThread - Connecting to: /home/model-server/tmp/.mms.sock.9003\n",
      "\u001b[36malgo-1-n3hmx_1  |\u001b[0m 2019-10-04 06:57:55,136 [INFO ] W-9003-model-stdout com.amazonaws.ml.mms.wlm.WorkerLifeCycle - Python runtime: 3.6.8\n",
      "\u001b[36malgo-1-n3hmx_1  |\u001b[0m 2019-10-04 06:57:55,134 [INFO ] W-9009-model-stdout com.amazonaws.ml.mms.wlm.WorkerLifeCycle - Python runtime: 3.6.8\n",
      "\u001b[36malgo-1-n3hmx_1  |\u001b[0m 2019-10-04 06:57:55,135 [INFO ] W-9000-model-stdout com.amazonaws.ml.mms.wlm.WorkerLifeCycle - Listening on port: /home/model-server/tmp/.mms.sock.9000\n",
      "\u001b[36malgo-1-n3hmx_1  |\u001b[0m 2019-10-04 06:57:55,136 [INFO ] W-9005-model-stdout com.amazonaws.ml.mms.wlm.WorkerLifeCycle - [PID]171\n",
      "\u001b[36malgo-1-n3hmx_1  |\u001b[0m 2019-10-04 06:57:55,136 [INFO ] W-9000-model-stdout com.amazonaws.ml.mms.wlm.WorkerLifeCycle - [PID]174\n",
      "\u001b[36malgo-1-n3hmx_1  |\u001b[0m 2019-10-04 06:57:55,136 [INFO ] W-9000-model-stdout com.amazonaws.ml.mms.wlm.WorkerLifeCycle - MXNet worker started.\n",
      "\u001b[36malgo-1-n3hmx_1  |\u001b[0m 2019-10-04 06:57:55,136 [INFO ] W-9000-model com.amazonaws.ml.mms.wlm.WorkerThread - Connecting to: /home/model-server/tmp/.mms.sock.9000\n",
      "\u001b[36malgo-1-n3hmx_1  |\u001b[0m 2019-10-04 06:57:55,137 [INFO ] W-9005-model com.amazonaws.ml.mms.wlm.WorkerThread - Connecting to: /home/model-server/tmp/.mms.sock.9005\n",
      "\u001b[36malgo-1-n3hmx_1  |\u001b[0m 2019-10-04 06:57:55,136 [INFO ] W-9005-model-stdout com.amazonaws.ml.mms.wlm.WorkerLifeCycle - MXNet worker started.\n",
      "\u001b[36malgo-1-n3hmx_1  |\u001b[0m 2019-10-04 06:57:55,136 [INFO ] W-9000-model-stdout com.amazonaws.ml.mms.wlm.WorkerLifeCycle - Python runtime: 3.6.8\n",
      "\u001b[36malgo-1-n3hmx_1  |\u001b[0m 2019-10-04 06:57:55,137 [INFO ] W-9005-model-stdout com.amazonaws.ml.mms.wlm.WorkerLifeCycle - Python runtime: 3.6.8\n",
      "\u001b[36malgo-1-n3hmx_1  |\u001b[0m 2019-10-04 06:57:55,139 [INFO ] W-9001-model-stdout com.amazonaws.ml.mms.wlm.WorkerLifeCycle - Listening on port: /home/model-server/tmp/.mms.sock.9001\n",
      "\u001b[36malgo-1-n3hmx_1  |\u001b[0m 2019-10-04 06:57:55,139 [INFO ] W-9001-model-stdout com.amazonaws.ml.mms.wlm.WorkerLifeCycle - [PID]175\n",
      "\u001b[36malgo-1-n3hmx_1  |\u001b[0m 2019-10-04 06:57:55,140 [INFO ] W-9001-model-stdout com.amazonaws.ml.mms.wlm.WorkerLifeCycle - MXNet worker started.\n",
      "\u001b[36malgo-1-n3hmx_1  |\u001b[0m 2019-10-04 06:57:55,140 [INFO ] W-9001-model com.amazonaws.ml.mms.wlm.WorkerThread - Connecting to: /home/model-server/tmp/.mms.sock.9001\n",
      "\u001b[36malgo-1-n3hmx_1  |\u001b[0m 2019-10-04 06:57:55,140 [INFO ] W-9001-model-stdout com.amazonaws.ml.mms.wlm.WorkerLifeCycle - Python runtime: 3.6.8\n",
      "\u001b[36malgo-1-n3hmx_1  |\u001b[0m 2019-10-04 06:57:55,140 [INFO ] W-9004-model-stdout com.amazonaws.ml.mms.wlm.WorkerLifeCycle - Listening on port: /home/model-server/tmp/.mms.sock.9004\n",
      "\u001b[36malgo-1-n3hmx_1  |\u001b[0m 2019-10-04 06:57:55,141 [INFO ] W-9004-model-stdout com.amazonaws.ml.mms.wlm.WorkerLifeCycle - [PID]176\n",
      "\u001b[36malgo-1-n3hmx_1  |\u001b[0m 2019-10-04 06:57:55,141 [INFO ] W-9004-model-stdout com.amazonaws.ml.mms.wlm.WorkerLifeCycle - MXNet worker started.\n",
      "\u001b[36malgo-1-n3hmx_1  |\u001b[0m 2019-10-04 06:57:55,141 [INFO ] W-9004-model com.amazonaws.ml.mms.wlm.WorkerThread - Connecting to: /home/model-server/tmp/.mms.sock.9004\n",
      "\u001b[36malgo-1-n3hmx_1  |\u001b[0m 2019-10-04 06:57:55,141 [INFO ] W-9004-model-stdout com.amazonaws.ml.mms.wlm.WorkerLifeCycle - Python runtime: 3.6.8\n",
      "\u001b[36malgo-1-n3hmx_1  |\u001b[0m 2019-10-04 06:57:55,162 [INFO ] W-9023-model-stdout com.amazonaws.ml.mms.wlm.WorkerLifeCycle - Listening on port: /home/model-server/tmp/.mms.sock.9023\n",
      "\u001b[36malgo-1-n3hmx_1  |\u001b[0m 2019-10-04 06:57:55,162 [INFO ] W-9021-model-stdout com.amazonaws.ml.mms.wlm.WorkerLifeCycle - Listening on port: /home/model-server/tmp/.mms.sock.9021\n",
      "\u001b[36malgo-1-n3hmx_1  |\u001b[0m 2019-10-04 06:57:55,162 [INFO ] W-9023-model-stdout com.amazonaws.ml.mms.wlm.WorkerLifeCycle - [PID]221\n",
      "\u001b[36malgo-1-n3hmx_1  |\u001b[0m 2019-10-04 06:57:55,163 [INFO ] W-9021-model-stdout com.amazonaws.ml.mms.wlm.WorkerLifeCycle - [PID]217\n",
      "\u001b[36malgo-1-n3hmx_1  |\u001b[0m 2019-10-04 06:57:55,163 [INFO ] W-9023-model-stdout com.amazonaws.ml.mms.wlm.WorkerLifeCycle - MXNet worker started.\n",
      "\u001b[36malgo-1-n3hmx_1  |\u001b[0m 2019-10-04 06:57:55,163 [INFO ] W-9021-model-stdout com.amazonaws.ml.mms.wlm.WorkerLifeCycle - MXNet worker started.\n",
      "\u001b[36malgo-1-n3hmx_1  |\u001b[0m 2019-10-04 06:57:55,163 [INFO ] W-9023-model com.amazonaws.ml.mms.wlm.WorkerThread - Connecting to: /home/model-server/tmp/.mms.sock.9023\n",
      "\u001b[36malgo-1-n3hmx_1  |\u001b[0m 2019-10-04 06:57:55,163 [INFO ] W-9021-model com.amazonaws.ml.mms.wlm.WorkerThread - Connecting to: /home/model-server/tmp/.mms.sock.9021\n",
      "\u001b[36malgo-1-n3hmx_1  |\u001b[0m 2019-10-04 06:57:55,163 [INFO ] W-9023-model-stdout com.amazonaws.ml.mms.wlm.WorkerLifeCycle - Python runtime: 3.6.8\n",
      "\u001b[36malgo-1-n3hmx_1  |\u001b[0m 2019-10-04 06:57:55,163 [INFO ] W-9021-model-stdout com.amazonaws.ml.mms.wlm.WorkerLifeCycle - Python runtime: 3.6.8\n",
      "\u001b[36malgo-1-n3hmx_1  |\u001b[0m 2019-10-04 06:57:55,165 [INFO ] W-9016-model-stdout com.amazonaws.ml.mms.wlm.WorkerLifeCycle - Listening on port: /home/model-server/tmp/.mms.sock.9016\n",
      "\u001b[36malgo-1-n3hmx_1  |\u001b[0m 2019-10-04 06:57:55,166 [INFO ] W-9016-model-stdout com.amazonaws.ml.mms.wlm.WorkerLifeCycle - [PID]227\n",
      "\u001b[36malgo-1-n3hmx_1  |\u001b[0m 2019-10-04 06:57:55,166 [INFO ] W-9016-model-stdout com.amazonaws.ml.mms.wlm.WorkerLifeCycle - MXNet worker started.\n",
      "\u001b[36malgo-1-n3hmx_1  |\u001b[0m 2019-10-04 06:57:55,166 [INFO ] W-9016-model-stdout com.amazonaws.ml.mms.wlm.WorkerLifeCycle - Python runtime: 3.6.8\n",
      "\u001b[36malgo-1-n3hmx_1  |\u001b[0m 2019-10-04 06:57:55,166 [INFO ] W-9016-model com.amazonaws.ml.mms.wlm.WorkerThread - Connecting to: /home/model-server/tmp/.mms.sock.9016\n",
      "\u001b[36malgo-1-n3hmx_1  |\u001b[0m 2019-10-04 06:57:55,169 [INFO ] W-9011-model-stdout com.amazonaws.ml.mms.wlm.WorkerLifeCycle - Listening on port: /home/model-server/tmp/.mms.sock.9011\n",
      "\u001b[36malgo-1-n3hmx_1  |\u001b[0m 2019-10-04 06:57:55,170 [INFO ] W-9011-model-stdout com.amazonaws.ml.mms.wlm.WorkerLifeCycle - [PID]216\n",
      "\u001b[36malgo-1-n3hmx_1  |\u001b[0m 2019-10-04 06:57:55,170 [INFO ] W-9011-model-stdout com.amazonaws.ml.mms.wlm.WorkerLifeCycle - MXNet worker started.\n",
      "\u001b[36malgo-1-n3hmx_1  |\u001b[0m 2019-10-04 06:57:55,170 [INFO ] W-9011-model com.amazonaws.ml.mms.wlm.WorkerThread - Connecting to: /home/model-server/tmp/.mms.sock.9011\n",
      "\u001b[36malgo-1-n3hmx_1  |\u001b[0m 2019-10-04 06:57:55,170 [INFO ] W-9011-model-stdout com.amazonaws.ml.mms.wlm.WorkerLifeCycle - Python runtime: 3.6.8\n",
      "\u001b[36malgo-1-n3hmx_1  |\u001b[0m 2019-10-04 06:57:55,171 [INFO ] W-9017-model-stdout com.amazonaws.ml.mms.wlm.WorkerLifeCycle - Listening on port: /home/model-server/tmp/.mms.sock.9017\n",
      "\u001b[36malgo-1-n3hmx_1  |\u001b[0m 2019-10-04 06:57:55,171 [INFO ] W-9017-model-stdout com.amazonaws.ml.mms.wlm.WorkerLifeCycle - [PID]220\n",
      "\u001b[36malgo-1-n3hmx_1  |\u001b[0m 2019-10-04 06:57:55,172 [INFO ] W-9017-model-stdout com.amazonaws.ml.mms.wlm.WorkerLifeCycle - MXNet worker started.\n",
      "\u001b[36malgo-1-n3hmx_1  |\u001b[0m 2019-10-04 06:57:55,172 [INFO ] W-9017-model com.amazonaws.ml.mms.wlm.WorkerThread - Connecting to: /home/model-server/tmp/.mms.sock.9017\n",
      "\u001b[36malgo-1-n3hmx_1  |\u001b[0m 2019-10-04 06:57:55,172 [INFO ] W-9017-model-stdout com.amazonaws.ml.mms.wlm.WorkerLifeCycle - Python runtime: 3.6.8\n",
      "\u001b[36malgo-1-n3hmx_1  |\u001b[0m 2019-10-04 06:57:55,172 [INFO ] W-9015-model-stdout com.amazonaws.ml.mms.wlm.WorkerLifeCycle - Listening on port: /home/model-server/tmp/.mms.sock.9015\n",
      "\u001b[36malgo-1-n3hmx_1  |\u001b[0m 2019-10-04 06:57:55,172 [INFO ] W-9019-model-stdout com.amazonaws.ml.mms.wlm.WorkerLifeCycle - Listening on port: /home/model-server/tmp/.mms.sock.9019\n",
      "\u001b[36malgo-1-n3hmx_1  |\u001b[0m 2019-10-04 06:57:55,172 [INFO ] W-9015-model-stdout com.amazonaws.ml.mms.wlm.WorkerLifeCycle - [PID]229\n",
      "\u001b[36malgo-1-n3hmx_1  |\u001b[0m 2019-10-04 06:57:55,172 [INFO ] W-9019-model-stdout com.amazonaws.ml.mms.wlm.WorkerLifeCycle - [PID]219\n",
      "\u001b[36malgo-1-n3hmx_1  |\u001b[0m 2019-10-04 06:57:55,172 [INFO ] W-9015-model-stdout com.amazonaws.ml.mms.wlm.WorkerLifeCycle - MXNet worker started.\n",
      "\u001b[36malgo-1-n3hmx_1  |\u001b[0m 2019-10-04 06:57:55,172 [INFO ] W-9019-model-stdout com.amazonaws.ml.mms.wlm.WorkerLifeCycle - MXNet worker started.\n",
      "\u001b[36malgo-1-n3hmx_1  |\u001b[0m 2019-10-04 06:57:55,173 [INFO ] W-9015-model-stdout com.amazonaws.ml.mms.wlm.WorkerLifeCycle - Python runtime: 3.6.8\n",
      "\u001b[36malgo-1-n3hmx_1  |\u001b[0m 2019-10-04 06:57:55,172 [INFO ] W-9015-model com.amazonaws.ml.mms.wlm.WorkerThread - Connecting to: /home/model-server/tmp/.mms.sock.9015\n",
      "\u001b[36malgo-1-n3hmx_1  |\u001b[0m 2019-10-04 06:57:55,173 [INFO ] W-9019-model-stdout com.amazonaws.ml.mms.wlm.WorkerLifeCycle - Python runtime: 3.6.8\n",
      "\u001b[36malgo-1-n3hmx_1  |\u001b[0m 2019-10-04 06:57:55,172 [INFO ] W-9019-model com.amazonaws.ml.mms.wlm.WorkerThread - Connecting to: /home/model-server/tmp/.mms.sock.9019\n",
      "\u001b[36malgo-1-n3hmx_1  |\u001b[0m 2019-10-04 06:57:55,173 [INFO ] W-9024-model-stdout com.amazonaws.ml.mms.wlm.WorkerLifeCycle - Listening on port: /home/model-server/tmp/.mms.sock.9024\n",
      "\u001b[36malgo-1-n3hmx_1  |\u001b[0m 2019-10-04 06:57:55,173 [INFO ] W-9024-model-stdout com.amazonaws.ml.mms.wlm.WorkerLifeCycle - [PID]232\n",
      "\u001b[36malgo-1-n3hmx_1  |\u001b[0m 2019-10-04 06:57:55,173 [INFO ] W-9024-model-stdout com.amazonaws.ml.mms.wlm.WorkerLifeCycle - MXNet worker started.\n",
      "\u001b[36malgo-1-n3hmx_1  |\u001b[0m 2019-10-04 06:57:55,173 [INFO ] W-9024-model com.amazonaws.ml.mms.wlm.WorkerThread - Connecting to: /home/model-server/tmp/.mms.sock.9024\n",
      "\u001b[36malgo-1-n3hmx_1  |\u001b[0m 2019-10-04 06:57:55,173 [INFO ] W-9024-model-stdout com.amazonaws.ml.mms.wlm.WorkerLifeCycle - Python runtime: 3.6.8\n",
      "\u001b[36malgo-1-n3hmx_1  |\u001b[0m 2019-10-04 06:57:55,174 [INFO ] W-9013-model-stdout com.amazonaws.ml.mms.wlm.WorkerLifeCycle - Listening on port: /home/model-server/tmp/.mms.sock.9013\n",
      "\u001b[36malgo-1-n3hmx_1  |\u001b[0m 2019-10-04 06:57:55,174 [INFO ] W-9013-model-stdout com.amazonaws.ml.mms.wlm.WorkerLifeCycle - [PID]225\n",
      "\u001b[36malgo-1-n3hmx_1  |\u001b[0m 2019-10-04 06:57:55,174 [INFO ] W-9013-model-stdout com.amazonaws.ml.mms.wlm.WorkerLifeCycle - MXNet worker started.\n",
      "\u001b[36malgo-1-n3hmx_1  |\u001b[0m 2019-10-04 06:57:55,174 [INFO ] W-9013-model com.amazonaws.ml.mms.wlm.WorkerThread - Connecting to: /home/model-server/tmp/.mms.sock.9013\n",
      "\u001b[36malgo-1-n3hmx_1  |\u001b[0m 2019-10-04 06:57:55,174 [INFO ] W-9013-model-stdout com.amazonaws.ml.mms.wlm.WorkerLifeCycle - Python runtime: 3.6.8\n",
      "\u001b[36malgo-1-n3hmx_1  |\u001b[0m 2019-10-04 06:57:55,176 [INFO ] W-9020-model-stdout com.amazonaws.ml.mms.wlm.WorkerLifeCycle - Listening on port: /home/model-server/tmp/.mms.sock.9020\n",
      "\u001b[36malgo-1-n3hmx_1  |\u001b[0m 2019-10-04 06:57:55,176 [INFO ] W-9020-model-stdout com.amazonaws.ml.mms.wlm.WorkerLifeCycle - [PID]230\n",
      "\u001b[36malgo-1-n3hmx_1  |\u001b[0m 2019-10-04 06:57:55,176 [INFO ] W-9020-model-stdout com.amazonaws.ml.mms.wlm.WorkerLifeCycle - MXNet worker started.\n",
      "\u001b[36malgo-1-n3hmx_1  |\u001b[0m 2019-10-04 06:57:55,176 [INFO ] W-9020-model com.amazonaws.ml.mms.wlm.WorkerThread - Connecting to: /home/model-server/tmp/.mms.sock.9020\n",
      "\u001b[36malgo-1-n3hmx_1  |\u001b[0m 2019-10-04 06:57:55,176 [INFO ] W-9020-model-stdout com.amazonaws.ml.mms.wlm.WorkerLifeCycle - Python runtime: 3.6.8\n",
      "\u001b[36malgo-1-n3hmx_1  |\u001b[0m 2019-10-04 06:57:55,176 [INFO ] W-9014-model-stdout com.amazonaws.ml.mms.wlm.WorkerLifeCycle - Listening on port: /home/model-server/tmp/.mms.sock.9014\n",
      "\u001b[36malgo-1-n3hmx_1  |\u001b[0m 2019-10-04 06:57:55,177 [INFO ] W-9014-model-stdout com.amazonaws.ml.mms.wlm.WorkerLifeCycle - [PID]224\n",
      "\u001b[36malgo-1-n3hmx_1  |\u001b[0m 2019-10-04 06:57:55,177 [INFO ] W-9014-model-stdout com.amazonaws.ml.mms.wlm.WorkerLifeCycle - MXNet worker started.\n",
      "\u001b[36malgo-1-n3hmx_1  |\u001b[0m 2019-10-04 06:57:55,177 [INFO ] W-9014-model com.amazonaws.ml.mms.wlm.WorkerThread - Connecting to: /home/model-server/tmp/.mms.sock.9014\n",
      "\u001b[36malgo-1-n3hmx_1  |\u001b[0m 2019-10-04 06:57:55,177 [INFO ] W-9014-model-stdout com.amazonaws.ml.mms.wlm.WorkerLifeCycle - Python runtime: 3.6.8\n",
      "\u001b[36malgo-1-n3hmx_1  |\u001b[0m 2019-10-04 06:57:55,178 [INFO ] W-9022-model-stdout com.amazonaws.ml.mms.wlm.WorkerLifeCycle - Listening on port: /home/model-server/tmp/.mms.sock.9022\n",
      "\u001b[36malgo-1-n3hmx_1  |\u001b[0m 2019-10-04 06:57:55,178 [INFO ] W-9022-model-stdout com.amazonaws.ml.mms.wlm.WorkerLifeCycle - [PID]222\n",
      "\u001b[36malgo-1-n3hmx_1  |\u001b[0m 2019-10-04 06:57:55,178 [INFO ] W-9022-model-stdout com.amazonaws.ml.mms.wlm.WorkerLifeCycle - MXNet worker started.\n",
      "\u001b[36malgo-1-n3hmx_1  |\u001b[0m 2019-10-04 06:57:55,178 [INFO ] W-9018-model-stdout com.amazonaws.ml.mms.wlm.WorkerLifeCycle - Listening on port: /home/model-server/tmp/.mms.sock.9018\n",
      "\u001b[36malgo-1-n3hmx_1  |\u001b[0m 2019-10-04 06:57:55,178 [INFO ] W-9022-model-stdout com.amazonaws.ml.mms.wlm.WorkerLifeCycle - Python runtime: 3.6.8\n",
      "\u001b[36malgo-1-n3hmx_1  |\u001b[0m 2019-10-04 06:57:55,178 [INFO ] W-9022-model com.amazonaws.ml.mms.wlm.WorkerThread - Connecting to: /home/model-server/tmp/.mms.sock.9022\n",
      "\u001b[36malgo-1-n3hmx_1  |\u001b[0m 2019-10-04 06:57:55,178 [INFO ] W-9018-model-stdout com.amazonaws.ml.mms.wlm.WorkerLifeCycle - [PID]218\n",
      "\u001b[36malgo-1-n3hmx_1  |\u001b[0m 2019-10-04 06:57:55,178 [INFO ] W-9018-model-stdout com.amazonaws.ml.mms.wlm.WorkerLifeCycle - MXNet worker started.\n",
      "\u001b[36malgo-1-n3hmx_1  |\u001b[0m 2019-10-04 06:57:55,178 [INFO ] W-9018-model com.amazonaws.ml.mms.wlm.WorkerThread - Connecting to: /home/model-server/tmp/.mms.sock.9018\n",
      "\u001b[36malgo-1-n3hmx_1  |\u001b[0m 2019-10-04 06:57:55,178 [INFO ] W-9012-model-stdout com.amazonaws.ml.mms.wlm.WorkerLifeCycle - Listening on port: /home/model-server/tmp/.mms.sock.9012\n",
      "\u001b[36malgo-1-n3hmx_1  |\u001b[0m 2019-10-04 06:57:55,179 [INFO ] W-9018-model-stdout com.amazonaws.ml.mms.wlm.WorkerLifeCycle - Python runtime: 3.6.8\n",
      "\u001b[36malgo-1-n3hmx_1  |\u001b[0m 2019-10-04 06:57:55,179 [INFO ] W-9012-model-stdout com.amazonaws.ml.mms.wlm.WorkerLifeCycle - [PID]228\n",
      "\u001b[36malgo-1-n3hmx_1  |\u001b[0m 2019-10-04 06:57:55,179 [INFO ] W-9012-model-stdout com.amazonaws.ml.mms.wlm.WorkerLifeCycle - MXNet worker started.\n",
      "\u001b[36malgo-1-n3hmx_1  |\u001b[0m 2019-10-04 06:57:55,179 [INFO ] W-9012-model com.amazonaws.ml.mms.wlm.WorkerThread - Connecting to: /home/model-server/tmp/.mms.sock.9012\n",
      "\u001b[36malgo-1-n3hmx_1  |\u001b[0m 2019-10-04 06:57:55,179 [INFO ] W-9012-model-stdout com.amazonaws.ml.mms.wlm.WorkerLifeCycle - Python runtime: 3.6.8\n",
      "\u001b[36malgo-1-n3hmx_1  |\u001b[0m 2019-10-04 06:57:55,180 [INFO ] W-9008-model-stdout com.amazonaws.ml.mms.wlm.WorkerLifeCycle - Listening on port: /home/model-server/tmp/.mms.sock.9008\n",
      "\u001b[36malgo-1-n3hmx_1  |\u001b[0m 2019-10-04 06:57:55,180 [INFO ] W-9008-model-stdout com.amazonaws.ml.mms.wlm.WorkerLifeCycle - [PID]226\n",
      "\u001b[36malgo-1-n3hmx_1  |\u001b[0m 2019-10-04 06:57:55,180 [INFO ] W-9008-model-stdout com.amazonaws.ml.mms.wlm.WorkerLifeCycle - MXNet worker started.\n",
      "\u001b[36malgo-1-n3hmx_1  |\u001b[0m 2019-10-04 06:57:55,180 [INFO ] W-9008-model com.amazonaws.ml.mms.wlm.WorkerThread - Connecting to: /home/model-server/tmp/.mms.sock.9008\n",
      "\u001b[36malgo-1-n3hmx_1  |\u001b[0m 2019-10-04 06:57:55,180 [INFO ] W-9008-model-stdout com.amazonaws.ml.mms.wlm.WorkerLifeCycle - Python runtime: 3.6.8\n",
      "\u001b[36malgo-1-n3hmx_1  |\u001b[0m 2019-10-04 06:57:55,199 [INFO ] W-9025-model-stdout com.amazonaws.ml.mms.wlm.WorkerLifeCycle - Listening on port: /home/model-server/tmp/.mms.sock.9025\n",
      "\u001b[36malgo-1-n3hmx_1  |\u001b[0m 2019-10-04 06:57:55,199 [INFO ] W-9025-model-stdout com.amazonaws.ml.mms.wlm.WorkerLifeCycle - [PID]245\n",
      "\u001b[36malgo-1-n3hmx_1  |\u001b[0m 2019-10-04 06:57:55,200 [INFO ] W-9026-model-stdout com.amazonaws.ml.mms.wlm.WorkerLifeCycle - Listening on port: /home/model-server/tmp/.mms.sock.9026\n",
      "\u001b[36malgo-1-n3hmx_1  |\u001b[0m 2019-10-04 06:57:55,200 [INFO ] W-9026-model-stdout com.amazonaws.ml.mms.wlm.WorkerLifeCycle - [PID]246\n",
      "\u001b[36malgo-1-n3hmx_1  |\u001b[0m 2019-10-04 06:57:55,202 [INFO ] W-9026-model-stdout com.amazonaws.ml.mms.wlm.WorkerLifeCycle - MXNet worker started.\n",
      "\u001b[36malgo-1-n3hmx_1  |\u001b[0m 2019-10-04 06:57:55,202 [INFO ] W-9025-model-stdout com.amazonaws.ml.mms.wlm.WorkerLifeCycle - MXNet worker started.\n",
      "\u001b[36malgo-1-n3hmx_1  |\u001b[0m 2019-10-04 06:57:55,202 [INFO ] W-9025-model com.amazonaws.ml.mms.wlm.WorkerThread - Connecting to: /home/model-server/tmp/.mms.sock.9025\n",
      "\u001b[36malgo-1-n3hmx_1  |\u001b[0m 2019-10-04 06:57:55,202 [INFO ] W-9026-model com.amazonaws.ml.mms.wlm.WorkerThread - Connecting to: /home/model-server/tmp/.mms.sock.9026\n",
      "\u001b[36malgo-1-n3hmx_1  |\u001b[0m 2019-10-04 06:57:55,202 [INFO ] W-9026-model-stdout com.amazonaws.ml.mms.wlm.WorkerLifeCycle - Python runtime: 3.6.8\n",
      "\u001b[36malgo-1-n3hmx_1  |\u001b[0m 2019-10-04 06:57:55,202 [INFO ] W-9025-model-stdout com.amazonaws.ml.mms.wlm.WorkerLifeCycle - Python runtime: 3.6.8\n",
      "\u001b[36malgo-1-n3hmx_1  |\u001b[0m 2019-10-04 06:57:55,206 [INFO ] W-9027-model-stdout com.amazonaws.ml.mms.wlm.WorkerLifeCycle - Listening on port: /home/model-server/tmp/.mms.sock.9027\n",
      "\u001b[36malgo-1-n3hmx_1  |\u001b[0m 2019-10-04 06:57:55,206 [INFO ] W-9027-model-stdout com.amazonaws.ml.mms.wlm.WorkerLifeCycle - [PID]259\n",
      "\u001b[36malgo-1-n3hmx_1  |\u001b[0m 2019-10-04 06:57:55,207 [INFO ] W-9027-model-stdout com.amazonaws.ml.mms.wlm.WorkerLifeCycle - MXNet worker started.\n",
      "\u001b[36malgo-1-n3hmx_1  |\u001b[0m 2019-10-04 06:57:55,207 [INFO ] W-9027-model com.amazonaws.ml.mms.wlm.WorkerThread - Connecting to: /home/model-server/tmp/.mms.sock.9027\n",
      "\u001b[36malgo-1-n3hmx_1  |\u001b[0m 2019-10-04 06:57:55,207 [INFO ] W-9027-model-stdout com.amazonaws.ml.mms.wlm.WorkerLifeCycle - Python runtime: 3.6.8\n",
      "\u001b[36malgo-1-n3hmx_1  |\u001b[0m 2019-10-04 06:57:55,209 [INFO ] W-9020-model-stdout com.amazonaws.ml.mms.wlm.WorkerLifeCycle - Connection accepted: /home/model-server/tmp/.mms.sock.9020.\n",
      "\u001b[36malgo-1-n3hmx_1  |\u001b[0m 2019-10-04 06:57:55,209 [INFO ] W-9009-model-stdout com.amazonaws.ml.mms.wlm.WorkerLifeCycle - Connection accepted: /home/model-server/tmp/.mms.sock.9009.\n",
      "\u001b[36malgo-1-n3hmx_1  |\u001b[0m 2019-10-04 06:57:55,209 [INFO ] W-9004-model-stdout com.amazonaws.ml.mms.wlm.WorkerLifeCycle - Connection accepted: /home/model-server/tmp/.mms.sock.9004.\n",
      "\u001b[36malgo-1-n3hmx_1  |\u001b[0m 2019-10-04 06:57:55,209 [INFO ] W-9007-model-stdout com.amazonaws.ml.mms.wlm.WorkerLifeCycle - Connection accepted: /home/model-server/tmp/.mms.sock.9007.\n",
      "\u001b[36malgo-1-n3hmx_1  |\u001b[0m 2019-10-04 06:57:55,209 [INFO ] W-9017-model-stdout com.amazonaws.ml.mms.wlm.WorkerLifeCycle - Connection accepted: /home/model-server/tmp/.mms.sock.9017.\n",
      "\u001b[36malgo-1-n3hmx_1  |\u001b[0m 2019-10-04 06:57:55,209 [INFO ] W-9003-model-stdout com.amazonaws.ml.mms.wlm.WorkerLifeCycle - Connection accepted: /home/model-server/tmp/.mms.sock.9003.\n",
      "\u001b[36malgo-1-n3hmx_1  |\u001b[0m 2019-10-04 06:57:55,209 [INFO ] W-9010-model-stdout com.amazonaws.ml.mms.wlm.WorkerLifeCycle - Connection accepted: /home/model-server/tmp/.mms.sock.9010.\n",
      "\u001b[36malgo-1-n3hmx_1  |\u001b[0m 2019-10-04 06:57:55,209 [INFO ] W-9016-model-stdout com.amazonaws.ml.mms.wlm.WorkerLifeCycle - Connection accepted: /home/model-server/tmp/.mms.sock.9016.\n",
      "\u001b[36malgo-1-n3hmx_1  |\u001b[0m 2019-10-04 06:57:55,209 [INFO ] W-9023-model-stdout com.amazonaws.ml.mms.wlm.WorkerLifeCycle - Connection accepted: /home/model-server/tmp/.mms.sock.9023.\n",
      "\u001b[36malgo-1-n3hmx_1  |\u001b[0m 2019-10-04 06:57:55,209 [INFO ] W-9006-model-stdout com.amazonaws.ml.mms.wlm.WorkerLifeCycle - Connection accepted: /home/model-server/tmp/.mms.sock.9006.\n",
      "\u001b[36malgo-1-n3hmx_1  |\u001b[0m 2019-10-04 06:57:55,209 [INFO ] W-9013-model-stdout com.amazonaws.ml.mms.wlm.WorkerLifeCycle - Connection accepted: /home/model-server/tmp/.mms.sock.9013.\n",
      "\u001b[36malgo-1-n3hmx_1  |\u001b[0m 2019-10-04 06:57:55,209 [INFO ] W-9000-model-stdout com.amazonaws.ml.mms.wlm.WorkerLifeCycle - Connection accepted: /home/model-server/tmp/.mms.sock.9000.\n",
      "\u001b[36malgo-1-n3hmx_1  |\u001b[0m 2019-10-04 06:57:55,209 [INFO ] W-9014-model-stdout com.amazonaws.ml.mms.wlm.WorkerLifeCycle - Connection accepted: /home/model-server/tmp/.mms.sock.9014.\n",
      "\u001b[36malgo-1-n3hmx_1  |\u001b[0m 2019-10-04 06:57:55,209 [INFO ] W-9005-model-stdout com.amazonaws.ml.mms.wlm.WorkerLifeCycle - Connection accepted: /home/model-server/tmp/.mms.sock.9005.\n",
      "\u001b[36malgo-1-n3hmx_1  |\u001b[0m 2019-10-04 06:57:55,209 [INFO ] W-9024-model-stdout com.amazonaws.ml.mms.wlm.WorkerLifeCycle - Connection accepted: /home/model-server/tmp/.mms.sock.9024.\n",
      "\u001b[36malgo-1-n3hmx_1  |\u001b[0m 2019-10-04 06:57:55,209 [INFO ] W-9012-model-stdout com.amazonaws.ml.mms.wlm.WorkerLifeCycle - Connection accepted: /home/model-server/tmp/.mms.sock.9012.\n",
      "\u001b[36malgo-1-n3hmx_1  |\u001b[0m 2019-10-04 06:57:55,209 [INFO ] W-9019-model-stdout com.amazonaws.ml.mms.wlm.WorkerLifeCycle - Connection accepted: /home/model-server/tmp/.mms.sock.9019.\n",
      "\u001b[36malgo-1-n3hmx_1  |\u001b[0m 2019-10-04 06:57:55,211 [INFO ] W-9001-model-stdout com.amazonaws.ml.mms.wlm.WorkerLifeCycle - Connection accepted: /home/model-server/tmp/.mms.sock.9001.\n",
      "\u001b[36malgo-1-n3hmx_1  |\u001b[0m 2019-10-04 06:57:55,211 [INFO ] W-9011-model-stdout com.amazonaws.ml.mms.wlm.WorkerLifeCycle - Connection accepted: /home/model-server/tmp/.mms.sock.9011.\n",
      "\u001b[36malgo-1-n3hmx_1  |\u001b[0m 2019-10-04 06:57:55,211 [INFO ] W-9018-model-stdout com.amazonaws.ml.mms.wlm.WorkerLifeCycle - Connection accepted: /home/model-server/tmp/.mms.sock.9018.\n",
      "\u001b[36malgo-1-n3hmx_1  |\u001b[0m 2019-10-04 06:57:55,211 [INFO ] W-9022-model-stdout com.amazonaws.ml.mms.wlm.WorkerLifeCycle - Connection accepted: /home/model-server/tmp/.mms.sock.9022.\n",
      "\u001b[36malgo-1-n3hmx_1  |\u001b[0m 2019-10-04 06:57:55,211 [INFO ] W-9002-model-stdout com.amazonaws.ml.mms.wlm.WorkerLifeCycle - Connection accepted: /home/model-server/tmp/.mms.sock.9002.\n",
      "\u001b[36malgo-1-n3hmx_1  |\u001b[0m 2019-10-04 06:57:55,211 [INFO ] W-9008-model-stdout com.amazonaws.ml.mms.wlm.WorkerLifeCycle - Connection accepted: /home/model-server/tmp/.mms.sock.9008.\n",
      "\u001b[36malgo-1-n3hmx_1  |\u001b[0m 2019-10-04 06:57:55,211 [INFO ] W-9026-model-stdout com.amazonaws.ml.mms.wlm.WorkerLifeCycle - Connection accepted: /home/model-server/tmp/.mms.sock.9026.\n",
      "\u001b[36malgo-1-n3hmx_1  |\u001b[0m 2019-10-04 06:57:55,211 [INFO ] W-9015-model-stdout com.amazonaws.ml.mms.wlm.WorkerLifeCycle - Connection accepted: /home/model-server/tmp/.mms.sock.9015.\n",
      "\u001b[36malgo-1-n3hmx_1  |\u001b[0m 2019-10-04 06:57:55,212 [INFO ] main com.amazonaws.ml.mms.ModelServer - Inference API bind to: http://0.0.0.0:8080\n",
      "\u001b[36malgo-1-n3hmx_1  |\u001b[0m 2019-10-04 06:57:55,212 [INFO ] main com.amazonaws.ml.mms.ModelServer - Initialize Management server with: EpollServerSocketChannel.\n",
      "\u001b[36malgo-1-n3hmx_1  |\u001b[0m 2019-10-04 06:57:55,212 [INFO ] W-9025-model-stdout com.amazonaws.ml.mms.wlm.WorkerLifeCycle - Connection accepted: /home/model-server/tmp/.mms.sock.9025.\n",
      "\u001b[36malgo-1-n3hmx_1  |\u001b[0m 2019-10-04 06:57:55,212 [INFO ] W-9021-model-stdout com.amazonaws.ml.mms.wlm.WorkerLifeCycle - Connection accepted: /home/model-server/tmp/.mms.sock.9021.\n",
      "\u001b[36malgo-1-n3hmx_1  |\u001b[0m 2019-10-04 06:57:55,220 [INFO ] main com.amazonaws.ml.mms.ModelServer - Management API bind to: http://127.0.0.1:8081\n",
      "\u001b[36malgo-1-n3hmx_1  |\u001b[0m 2019-10-04 06:57:55,220 [INFO ] W-9027-model-stdout com.amazonaws.ml.mms.wlm.WorkerLifeCycle - Connection accepted: /home/model-server/tmp/.mms.sock.9027.\n",
      "\u001b[36malgo-1-n3hmx_1  |\u001b[0m Model server started.\n",
      "\u001b[36malgo-1-n3hmx_1  |\u001b[0m 2019-10-04 06:57:55,224 [WARN ] pool-2-thread-1 com.amazonaws.ml.mms.metrics.MetricCollector - worker pid is not available yet.\n",
      "\u001b[36malgo-1-n3hmx_1  |\u001b[0m 2019-10-04 06:57:55,229 [INFO ] W-9028-model-stdout com.amazonaws.ml.mms.wlm.WorkerLifeCycle - Listening on port: /home/model-server/tmp/.mms.sock.9028\n",
      "\u001b[36malgo-1-n3hmx_1  |\u001b[0m 2019-10-04 06:57:55,229 [INFO ] W-9028-model-stdout com.amazonaws.ml.mms.wlm.WorkerLifeCycle - [PID]286\n",
      "\u001b[36malgo-1-n3hmx_1  |\u001b[0m 2019-10-04 06:57:55,230 [INFO ] W-9028-model-stdout com.amazonaws.ml.mms.wlm.WorkerLifeCycle - MXNet worker started.\n",
      "\u001b[36malgo-1-n3hmx_1  |\u001b[0m 2019-10-04 06:57:55,230 [INFO ] W-9028-model-stdout com.amazonaws.ml.mms.wlm.WorkerLifeCycle - Python runtime: 3.6.8\n",
      "\u001b[36malgo-1-n3hmx_1  |\u001b[0m 2019-10-04 06:57:55,231 [INFO ] W-9028-model com.amazonaws.ml.mms.wlm.WorkerThread - Connecting to: /home/model-server/tmp/.mms.sock.9028\n",
      "\u001b[36malgo-1-n3hmx_1  |\u001b[0m 2019-10-04 06:57:55,232 [INFO ] W-9028-model-stdout com.amazonaws.ml.mms.wlm.WorkerLifeCycle - Connection accepted: /home/model-server/tmp/.mms.sock.9028.\n",
      "\u001b[36malgo-1-n3hmx_1  |\u001b[0m 2019-10-04 06:57:55,238 [INFO ] W-9029-model-stdout com.amazonaws.ml.mms.wlm.WorkerLifeCycle - Listening on port: /home/model-server/tmp/.mms.sock.9029\n",
      "\u001b[36malgo-1-n3hmx_1  |\u001b[0m 2019-10-04 06:57:55,238 [INFO ] W-9029-model-stdout com.amazonaws.ml.mms.wlm.WorkerLifeCycle - [PID]288\n",
      "\u001b[36malgo-1-n3hmx_1  |\u001b[0m 2019-10-04 06:57:55,239 [INFO ] W-9029-model-stdout com.amazonaws.ml.mms.wlm.WorkerLifeCycle - MXNet worker started.\n",
      "\u001b[36malgo-1-n3hmx_1  |\u001b[0m 2019-10-04 06:57:55,239 [INFO ] W-9029-model com.amazonaws.ml.mms.wlm.WorkerThread - Connecting to: /home/model-server/tmp/.mms.sock.9029\n",
      "\u001b[36malgo-1-n3hmx_1  |\u001b[0m 2019-10-04 06:57:55,239 [INFO ] W-9029-model-stdout com.amazonaws.ml.mms.wlm.WorkerLifeCycle - Python runtime: 3.6.8\n",
      "\u001b[36malgo-1-n3hmx_1  |\u001b[0m 2019-10-04 06:57:55,246 [INFO ] W-9029-model-stdout com.amazonaws.ml.mms.wlm.WorkerLifeCycle - Connection accepted: /home/model-server/tmp/.mms.sock.9029.\n",
      "\u001b[36malgo-1-n3hmx_1  |\u001b[0m 2019-10-04 06:57:55,250 [INFO ] W-9030-model-stdout com.amazonaws.ml.mms.wlm.WorkerLifeCycle - Listening on port: /home/model-server/tmp/.mms.sock.9030\n",
      "\u001b[36malgo-1-n3hmx_1  |\u001b[0m 2019-10-04 06:57:55,250 [INFO ] W-9030-model-stdout com.amazonaws.ml.mms.wlm.WorkerLifeCycle - [PID]310\n",
      "\u001b[36malgo-1-n3hmx_1  |\u001b[0m 2019-10-04 06:57:55,250 [INFO ] W-9030-model-stdout com.amazonaws.ml.mms.wlm.WorkerLifeCycle - MXNet worker started.\n",
      "\u001b[36malgo-1-n3hmx_1  |\u001b[0m 2019-10-04 06:57:55,250 [INFO ] W-9030-model com.amazonaws.ml.mms.wlm.WorkerThread - Connecting to: /home/model-server/tmp/.mms.sock.9030\n",
      "\u001b[36malgo-1-n3hmx_1  |\u001b[0m 2019-10-04 06:57:55,251 [INFO ] W-9030-model-stdout com.amazonaws.ml.mms.wlm.WorkerLifeCycle - Python runtime: 3.6.8\n",
      "\u001b[36malgo-1-n3hmx_1  |\u001b[0m 2019-10-04 06:57:55,252 [INFO ] W-9030-model-stdout com.amazonaws.ml.mms.wlm.WorkerLifeCycle - Connection accepted: /home/model-server/tmp/.mms.sock.9030.\n",
      "\u001b[36malgo-1-n3hmx_1  |\u001b[0m 2019-10-04 06:57:55,274 [INFO ] W-9031-model-stdout com.amazonaws.ml.mms.wlm.WorkerLifeCycle - Listening on port: /home/model-server/tmp/.mms.sock.9031\n",
      "\u001b[36malgo-1-n3hmx_1  |\u001b[0m 2019-10-04 06:57:55,274 [INFO ] W-9031-model-stdout com.amazonaws.ml.mms.wlm.WorkerLifeCycle - [PID]321\n",
      "\u001b[36malgo-1-n3hmx_1  |\u001b[0m 2019-10-04 06:57:55,275 [INFO ] W-9031-model-stdout com.amazonaws.ml.mms.wlm.WorkerLifeCycle - MXNet worker started.\n",
      "\u001b[36malgo-1-n3hmx_1  |\u001b[0m 2019-10-04 06:57:55,275 [INFO ] W-9031-model com.amazonaws.ml.mms.wlm.WorkerThread - Connecting to: /home/model-server/tmp/.mms.sock.9031\n",
      "\u001b[36malgo-1-n3hmx_1  |\u001b[0m 2019-10-04 06:57:55,276 [INFO ] W-9031-model-stdout com.amazonaws.ml.mms.wlm.WorkerLifeCycle - Python runtime: 3.6.8\n",
      "\u001b[36malgo-1-n3hmx_1  |\u001b[0m 2019-10-04 06:57:55,280 [INFO ] W-9031-model-stdout com.amazonaws.ml.mms.wlm.WorkerLifeCycle - Connection accepted: /home/model-server/tmp/.mms.sock.9031.\n"
     ]
    },
    {
     "name": "stdout",
     "output_type": "stream",
     "text": [
      "\u001b[36malgo-1-n3hmx_1  |\u001b[0m 2019-10-04 06:57:56,230 [INFO ] pool-1-thread-33 ACCESS_LOG - /172.18.0.1:60632 \"GET /ping HTTP/1.1\" 200 49\n",
      "!\u001b[36malgo-1-n3hmx_1  |\u001b[0m 2019-10-04 06:57:57,306 [INFO ] W-9012-model-stdout com.amazonaws.ml.mms.wlm.WorkerLifeCycle - test\n",
      "\u001b[36malgo-1-n3hmx_1  |\u001b[0m 2019-10-04 06:57:57,307 [WARN ] W-9012-model-stderr com.amazonaws.ml.mms.wlm.WorkerLifeCycle - /opt/ml/model/code/serve.py:18: UserWarning: test2\n",
      "\u001b[36malgo-1-n3hmx_1  |\u001b[0m 2019-10-04 06:57:57,308 [WARN ] W-9012-model-stderr com.amazonaws.ml.mms.wlm.WorkerLifeCycle -   warnings.warn('test2')\n",
      "\u001b[36malgo-1-n3hmx_1  |\u001b[0m 2019-10-04 06:57:57,309 [INFO ] W-9012-model com.amazonaws.ml.mms.wlm.WorkerThread - Backend response time: 2064\n",
      "\u001b[36malgo-1-n3hmx_1  |\u001b[0m 2019-10-04 06:57:57,312 [INFO ] W-9001-model-stdout com.amazonaws.ml.mms.wlm.WorkerLifeCycle - test\n",
      "\u001b[36malgo-1-n3hmx_1  |\u001b[0m 2019-10-04 06:57:57,313 [WARN ] W-9001-model-stderr com.amazonaws.ml.mms.wlm.WorkerLifeCycle - /opt/ml/model/code/serve.py:18: UserWarning: test2\n",
      "\u001b[36malgo-1-n3hmx_1  |\u001b[0m 2019-10-04 06:57:57,313 [WARN ] W-9001-model-stderr com.amazonaws.ml.mms.wlm.WorkerLifeCycle -   warnings.warn('test2')\n",
      "\u001b[36malgo-1-n3hmx_1  |\u001b[0m 2019-10-04 06:57:57,314 [INFO ] W-9001-model com.amazonaws.ml.mms.wlm.WorkerThread - Backend response time: 2069\n",
      "\u001b[36malgo-1-n3hmx_1  |\u001b[0m 2019-10-04 06:57:57,325 [INFO ] W-9004-model-stdout com.amazonaws.ml.mms.wlm.WorkerLifeCycle - test\n",
      "\u001b[36malgo-1-n3hmx_1  |\u001b[0m 2019-10-04 06:57:57,325 [WARN ] W-9004-model-stderr com.amazonaws.ml.mms.wlm.WorkerLifeCycle - /opt/ml/model/code/serve.py:18: UserWarning: test2\n",
      "\u001b[36malgo-1-n3hmx_1  |\u001b[0m 2019-10-04 06:57:57,325 [WARN ] W-9004-model-stderr com.amazonaws.ml.mms.wlm.WorkerLifeCycle -   warnings.warn('test2')\n",
      "\u001b[36malgo-1-n3hmx_1  |\u001b[0m 2019-10-04 06:57:57,325 [INFO ] W-9019-model-stdout com.amazonaws.ml.mms.wlm.WorkerLifeCycle - test\n",
      "\u001b[36malgo-1-n3hmx_1  |\u001b[0m 2019-10-04 06:57:57,326 [WARN ] W-9019-model-stderr com.amazonaws.ml.mms.wlm.WorkerLifeCycle - /opt/ml/model/code/serve.py:18: UserWarning: test2\n",
      "\u001b[36malgo-1-n3hmx_1  |\u001b[0m 2019-10-04 06:57:57,326 [WARN ] W-9019-model-stderr com.amazonaws.ml.mms.wlm.WorkerLifeCycle -   warnings.warn('test2')\n",
      "\u001b[36malgo-1-n3hmx_1  |\u001b[0m 2019-10-04 06:57:57,326 [INFO ] W-9004-model com.amazonaws.ml.mms.wlm.WorkerThread - Backend response time: 2079\n",
      "\u001b[36malgo-1-n3hmx_1  |\u001b[0m 2019-10-04 06:57:57,326 [INFO ] W-9019-model com.amazonaws.ml.mms.wlm.WorkerThread - Backend response time: 2081\n",
      "\u001b[36malgo-1-n3hmx_1  |\u001b[0m 2019-10-04 06:57:57,340 [INFO ] W-9002-model-stdout com.amazonaws.ml.mms.wlm.WorkerLifeCycle - test\n",
      "\u001b[36malgo-1-n3hmx_1  |\u001b[0m 2019-10-04 06:57:57,340 [WARN ] W-9002-model-stderr com.amazonaws.ml.mms.wlm.WorkerLifeCycle - /opt/ml/model/code/serve.py:18: UserWarning: test2\n",
      "\u001b[36malgo-1-n3hmx_1  |\u001b[0m 2019-10-04 06:57:57,340 [WARN ] W-9002-model-stderr com.amazonaws.ml.mms.wlm.WorkerLifeCycle -   warnings.warn('test2')\n",
      "\u001b[36malgo-1-n3hmx_1  |\u001b[0m 2019-10-04 06:57:57,340 [INFO ] W-9002-model com.amazonaws.ml.mms.wlm.WorkerThread - Backend response time: 2094\n",
      "\u001b[36malgo-1-n3hmx_1  |\u001b[0m 2019-10-04 06:57:57,359 [INFO ] W-9022-model-stdout com.amazonaws.ml.mms.wlm.WorkerLifeCycle - test\n",
      "\u001b[36malgo-1-n3hmx_1  |\u001b[0m 2019-10-04 06:57:57,359 [WARN ] W-9022-model-stderr com.amazonaws.ml.mms.wlm.WorkerLifeCycle - /opt/ml/model/code/serve.py:18: UserWarning: test2\n",
      "\u001b[36malgo-1-n3hmx_1  |\u001b[0m 2019-10-04 06:57:57,359 [WARN ] W-9022-model-stderr com.amazonaws.ml.mms.wlm.WorkerLifeCycle -   warnings.warn('test2')\n",
      "\u001b[36malgo-1-n3hmx_1  |\u001b[0m 2019-10-04 06:57:57,360 [INFO ] W-9022-model com.amazonaws.ml.mms.wlm.WorkerThread - Backend response time: 2115\n",
      "\u001b[36malgo-1-n3hmx_1  |\u001b[0m 2019-10-04 06:57:57,379 [INFO ] W-9014-model-stdout com.amazonaws.ml.mms.wlm.WorkerLifeCycle - test\n",
      "\u001b[36malgo-1-n3hmx_1  |\u001b[0m 2019-10-04 06:57:57,380 [WARN ] W-9014-model-stderr com.amazonaws.ml.mms.wlm.WorkerLifeCycle - /opt/ml/model/code/serve.py:18: UserWarning: test2\n",
      "\u001b[36malgo-1-n3hmx_1  |\u001b[0m 2019-10-04 06:57:57,380 [WARN ] W-9014-model-stderr com.amazonaws.ml.mms.wlm.WorkerLifeCycle -   warnings.warn('test2')\n",
      "\u001b[36malgo-1-n3hmx_1  |\u001b[0m 2019-10-04 06:57:57,380 [INFO ] W-9014-model com.amazonaws.ml.mms.wlm.WorkerThread - Backend response time: 2135\n",
      "\u001b[36malgo-1-n3hmx_1  |\u001b[0m 2019-10-04 06:57:57,384 [INFO ] W-9006-model-stdout com.amazonaws.ml.mms.wlm.WorkerLifeCycle - test\n",
      "\u001b[36malgo-1-n3hmx_1  |\u001b[0m 2019-10-04 06:57:57,385 [WARN ] W-9006-model-stderr com.amazonaws.ml.mms.wlm.WorkerLifeCycle - /opt/ml/model/code/serve.py:18: UserWarning: test2\n",
      "\u001b[36malgo-1-n3hmx_1  |\u001b[0m 2019-10-04 06:57:57,385 [WARN ] W-9006-model-stderr com.amazonaws.ml.mms.wlm.WorkerLifeCycle -   warnings.warn('test2')\n",
      "\u001b[36malgo-1-n3hmx_1  |\u001b[0m 2019-10-04 06:57:57,385 [INFO ] W-9006-model com.amazonaws.ml.mms.wlm.WorkerThread - Backend response time: 2137\n",
      "\u001b[36malgo-1-n3hmx_1  |\u001b[0m 2019-10-04 06:57:57,387 [INFO ] W-9026-model-stdout com.amazonaws.ml.mms.wlm.WorkerLifeCycle - test\n",
      "\u001b[36malgo-1-n3hmx_1  |\u001b[0m 2019-10-04 06:57:57,387 [WARN ] W-9026-model-stderr com.amazonaws.ml.mms.wlm.WorkerLifeCycle - /opt/ml/model/code/serve.py:18: UserWarning: test2\n",
      "\u001b[36malgo-1-n3hmx_1  |\u001b[0m 2019-10-04 06:57:57,387 [WARN ] W-9026-model-stderr com.amazonaws.ml.mms.wlm.WorkerLifeCycle -   warnings.warn('test2')\n",
      "\u001b[36malgo-1-n3hmx_1  |\u001b[0m 2019-10-04 06:57:57,388 [INFO ] W-9026-model com.amazonaws.ml.mms.wlm.WorkerThread - Backend response time: 2143\n",
      "\u001b[36malgo-1-n3hmx_1  |\u001b[0m 2019-10-04 06:57:57,392 [INFO ] W-9031-model-stdout com.amazonaws.ml.mms.wlm.WorkerLifeCycle - test\n",
      "\u001b[36malgo-1-n3hmx_1  |\u001b[0m 2019-10-04 06:57:57,392 [WARN ] W-9031-model-stderr com.amazonaws.ml.mms.wlm.WorkerLifeCycle - /opt/ml/model/code/serve.py:18: UserWarning: test2\n",
      "\u001b[36malgo-1-n3hmx_1  |\u001b[0m 2019-10-04 06:57:57,392 [WARN ] W-9031-model-stderr com.amazonaws.ml.mms.wlm.WorkerLifeCycle -   warnings.warn('test2')\n",
      "\u001b[36malgo-1-n3hmx_1  |\u001b[0m 2019-10-04 06:57:57,393 [INFO ] W-9031-model com.amazonaws.ml.mms.wlm.WorkerThread - Backend response time: 2097\n",
      "\u001b[36malgo-1-n3hmx_1  |\u001b[0m 2019-10-04 06:57:57,394 [INFO ] W-9018-model-stdout com.amazonaws.ml.mms.wlm.WorkerLifeCycle - test\n",
      "\u001b[36malgo-1-n3hmx_1  |\u001b[0m 2019-10-04 06:57:57,394 [WARN ] W-9018-model-stderr com.amazonaws.ml.mms.wlm.WorkerLifeCycle - /opt/ml/model/code/serve.py:18: UserWarning: test2\n",
      "\u001b[36malgo-1-n3hmx_1  |\u001b[0m 2019-10-04 06:57:57,394 [WARN ] W-9018-model-stderr com.amazonaws.ml.mms.wlm.WorkerLifeCycle -   warnings.warn('test2')\n",
      "\u001b[36malgo-1-n3hmx_1  |\u001b[0m 2019-10-04 06:57:57,394 [INFO ] W-9018-model com.amazonaws.ml.mms.wlm.WorkerThread - Backend response time: 2149\n",
      "\u001b[36malgo-1-n3hmx_1  |\u001b[0m 2019-10-04 06:57:57,404 [INFO ] W-9030-model-stdout com.amazonaws.ml.mms.wlm.WorkerLifeCycle - test\n",
      "\u001b[36malgo-1-n3hmx_1  |\u001b[0m 2019-10-04 06:57:57,404 [WARN ] W-9030-model-stderr com.amazonaws.ml.mms.wlm.WorkerLifeCycle - /opt/ml/model/code/serve.py:18: UserWarning: test2\n",
      "\u001b[36malgo-1-n3hmx_1  |\u001b[0m 2019-10-04 06:57:57,404 [WARN ] W-9030-model-stderr com.amazonaws.ml.mms.wlm.WorkerLifeCycle -   warnings.warn('test2')\n",
      "\u001b[36malgo-1-n3hmx_1  |\u001b[0m 2019-10-04 06:57:57,405 [INFO ] W-9030-model com.amazonaws.ml.mms.wlm.WorkerThread - Backend response time: 2145\n",
      "\u001b[36malgo-1-n3hmx_1  |\u001b[0m 2019-10-04 06:57:57,408 [INFO ] W-9003-model-stdout com.amazonaws.ml.mms.wlm.WorkerLifeCycle - test\n",
      "\u001b[36malgo-1-n3hmx_1  |\u001b[0m 2019-10-04 06:57:57,408 [WARN ] W-9003-model-stderr com.amazonaws.ml.mms.wlm.WorkerLifeCycle - /opt/ml/model/code/serve.py:18: UserWarning: test2\n",
      "\u001b[36malgo-1-n3hmx_1  |\u001b[0m 2019-10-04 06:57:57,408 [WARN ] W-9003-model-stderr com.amazonaws.ml.mms.wlm.WorkerLifeCycle -   warnings.warn('test2')\n",
      "\u001b[36malgo-1-n3hmx_1  |\u001b[0m 2019-10-04 06:57:57,408 [INFO ] W-9003-model com.amazonaws.ml.mms.wlm.WorkerThread - Backend response time: 2163\n",
      "\u001b[36malgo-1-n3hmx_1  |\u001b[0m 2019-10-04 06:57:57,408 [INFO ] W-9021-model-stdout com.amazonaws.ml.mms.wlm.WorkerLifeCycle - test\n",
      "\u001b[36malgo-1-n3hmx_1  |\u001b[0m 2019-10-04 06:57:57,408 [WARN ] W-9021-model-stderr com.amazonaws.ml.mms.wlm.WorkerLifeCycle - /opt/ml/model/code/serve.py:18: UserWarning: test2\n",
      "\u001b[36malgo-1-n3hmx_1  |\u001b[0m 2019-10-04 06:57:57,409 [WARN ] W-9021-model-stderr com.amazonaws.ml.mms.wlm.WorkerLifeCycle -   warnings.warn('test2')\n",
      "\u001b[36malgo-1-n3hmx_1  |\u001b[0m 2019-10-04 06:57:57,409 [INFO ] W-9021-model com.amazonaws.ml.mms.wlm.WorkerThread - Backend response time: 2161\n",
      "\u001b[36malgo-1-n3hmx_1  |\u001b[0m 2019-10-04 06:57:57,412 [INFO ] W-9015-model-stdout com.amazonaws.ml.mms.wlm.WorkerLifeCycle - test\n",
      "\u001b[36malgo-1-n3hmx_1  |\u001b[0m 2019-10-04 06:57:57,413 [WARN ] W-9015-model-stderr com.amazonaws.ml.mms.wlm.WorkerLifeCycle - /opt/ml/model/code/serve.py:18: UserWarning: test2\n",
      "\u001b[36malgo-1-n3hmx_1  |\u001b[0m 2019-10-04 06:57:57,413 [WARN ] W-9015-model-stderr com.amazonaws.ml.mms.wlm.WorkerLifeCycle -   warnings.warn('test2')\n",
      "\u001b[36malgo-1-n3hmx_1  |\u001b[0m 2019-10-04 06:57:57,413 [INFO ] W-9015-model com.amazonaws.ml.mms.wlm.WorkerThread - Backend response time: 2169\n",
      "\u001b[36malgo-1-n3hmx_1  |\u001b[0m 2019-10-04 06:57:57,416 [INFO ] W-9010-model-stdout com.amazonaws.ml.mms.wlm.WorkerLifeCycle - test\n",
      "\u001b[36malgo-1-n3hmx_1  |\u001b[0m 2019-10-04 06:57:57,417 [WARN ] W-9010-model-stderr com.amazonaws.ml.mms.wlm.WorkerLifeCycle - /opt/ml/model/code/serve.py:18: UserWarning: test2\n",
      "\u001b[36malgo-1-n3hmx_1  |\u001b[0m 2019-10-04 06:57:57,417 [WARN ] W-9010-model-stderr com.amazonaws.ml.mms.wlm.WorkerLifeCycle -   warnings.warn('test2')\n",
      "\u001b[36malgo-1-n3hmx_1  |\u001b[0m 2019-10-04 06:57:57,417 [INFO ] W-9010-model com.amazonaws.ml.mms.wlm.WorkerThread - Backend response time: 2172\n",
      "\u001b[36malgo-1-n3hmx_1  |\u001b[0m 2019-10-04 06:57:57,418 [INFO ] W-9025-model-stdout com.amazonaws.ml.mms.wlm.WorkerLifeCycle - test\n",
      "\u001b[36malgo-1-n3hmx_1  |\u001b[0m 2019-10-04 06:57:57,418 [WARN ] W-9025-model-stderr com.amazonaws.ml.mms.wlm.WorkerLifeCycle - /opt/ml/model/code/serve.py:18: UserWarning: test2\n",
      "\u001b[36malgo-1-n3hmx_1  |\u001b[0m 2019-10-04 06:57:57,418 [WARN ] W-9025-model-stderr com.amazonaws.ml.mms.wlm.WorkerLifeCycle -   warnings.warn('test2')\n",
      "\u001b[36malgo-1-n3hmx_1  |\u001b[0m 2019-10-04 06:57:57,418 [INFO ] W-9025-model com.amazonaws.ml.mms.wlm.WorkerThread - Backend response time: 2158\n",
      "\u001b[36malgo-1-n3hmx_1  |\u001b[0m 2019-10-04 06:57:57,419 [INFO ] W-9017-model-stdout com.amazonaws.ml.mms.wlm.WorkerLifeCycle - test\n",
      "\u001b[36malgo-1-n3hmx_1  |\u001b[0m 2019-10-04 06:57:57,419 [WARN ] W-9017-model-stderr com.amazonaws.ml.mms.wlm.WorkerLifeCycle - /opt/ml/model/code/serve.py:18: UserWarning: test2\n",
      "\u001b[36malgo-1-n3hmx_1  |\u001b[0m 2019-10-04 06:57:57,419 [WARN ] W-9017-model-stderr com.amazonaws.ml.mms.wlm.WorkerLifeCycle -   warnings.warn('test2')\n",
      "\u001b[36malgo-1-n3hmx_1  |\u001b[0m 2019-10-04 06:57:57,419 [INFO ] W-9017-model com.amazonaws.ml.mms.wlm.WorkerThread - Backend response time: 2173\n",
      "\u001b[36malgo-1-n3hmx_1  |\u001b[0m 2019-10-04 06:57:57,421 [INFO ] W-9013-model-stdout com.amazonaws.ml.mms.wlm.WorkerLifeCycle - test\n",
      "\u001b[36malgo-1-n3hmx_1  |\u001b[0m 2019-10-04 06:57:57,421 [WARN ] W-9013-model-stderr com.amazonaws.ml.mms.wlm.WorkerLifeCycle - /opt/ml/model/code/serve.py:18: UserWarning: test2\n",
      "\u001b[36malgo-1-n3hmx_1  |\u001b[0m 2019-10-04 06:57:57,421 [WARN ] W-9013-model-stderr com.amazonaws.ml.mms.wlm.WorkerLifeCycle -   warnings.warn('test2')\n",
      "\u001b[36malgo-1-n3hmx_1  |\u001b[0m 2019-10-04 06:57:57,422 [INFO ] W-9013-model com.amazonaws.ml.mms.wlm.WorkerThread - Backend response time: 2179\n",
      "\u001b[36malgo-1-n3hmx_1  |\u001b[0m 2019-10-04 06:57:57,425 [INFO ] W-9011-model-stdout com.amazonaws.ml.mms.wlm.WorkerLifeCycle - test\n",
      "\u001b[36malgo-1-n3hmx_1  |\u001b[0m 2019-10-04 06:57:57,425 [WARN ] W-9011-model-stderr com.amazonaws.ml.mms.wlm.WorkerLifeCycle - /opt/ml/model/code/serve.py:18: UserWarning: test2\n",
      "\u001b[36malgo-1-n3hmx_1  |\u001b[0m 2019-10-04 06:57:57,425 [WARN ] W-9011-model-stderr com.amazonaws.ml.mms.wlm.WorkerLifeCycle -   warnings.warn('test2')\n",
      "\u001b[36malgo-1-n3hmx_1  |\u001b[0m 2019-10-04 06:57:57,425 [INFO ] W-9029-model-stdout com.amazonaws.ml.mms.wlm.WorkerLifeCycle - test\n",
      "\u001b[36malgo-1-n3hmx_1  |\u001b[0m 2019-10-04 06:57:57,425 [INFO ] W-9011-model com.amazonaws.ml.mms.wlm.WorkerThread - Backend response time: 2165\n",
      "\u001b[36malgo-1-n3hmx_1  |\u001b[0m 2019-10-04 06:57:57,425 [WARN ] W-9029-model-stderr com.amazonaws.ml.mms.wlm.WorkerLifeCycle - /opt/ml/model/code/serve.py:18: UserWarning: test2\n",
      "\u001b[36malgo-1-n3hmx_1  |\u001b[0m 2019-10-04 06:57:57,425 [WARN ] W-9029-model-stderr com.amazonaws.ml.mms.wlm.WorkerLifeCycle -   warnings.warn('test2')\n",
      "\u001b[36malgo-1-n3hmx_1  |\u001b[0m 2019-10-04 06:57:57,426 [INFO ] W-9029-model com.amazonaws.ml.mms.wlm.WorkerThread - Backend response time: 2178\n",
      "\u001b[36malgo-1-n3hmx_1  |\u001b[0m 2019-10-04 06:57:57,428 [INFO ] W-9020-model-stdout com.amazonaws.ml.mms.wlm.WorkerLifeCycle - test\n",
      "\u001b[36malgo-1-n3hmx_1  |\u001b[0m 2019-10-04 06:57:57,428 [WARN ] W-9020-model-stderr com.amazonaws.ml.mms.wlm.WorkerLifeCycle - /opt/ml/model/code/serve.py:18: UserWarning: test2\n",
      "\u001b[36malgo-1-n3hmx_1  |\u001b[0m 2019-10-04 06:57:57,428 [WARN ] W-9020-model-stderr com.amazonaws.ml.mms.wlm.WorkerLifeCycle -   warnings.warn('test2')\n",
      "\u001b[36malgo-1-n3hmx_1  |\u001b[0m 2019-10-04 06:57:57,429 [INFO ] W-9020-model com.amazonaws.ml.mms.wlm.WorkerThread - Backend response time: 2183\n",
      "\u001b[36malgo-1-n3hmx_1  |\u001b[0m 2019-10-04 06:57:57,429 [INFO ] W-9000-model-stdout com.amazonaws.ml.mms.wlm.WorkerLifeCycle - test\n",
      "\u001b[36malgo-1-n3hmx_1  |\u001b[0m 2019-10-04 06:57:57,429 [WARN ] W-9000-model-stderr com.amazonaws.ml.mms.wlm.WorkerLifeCycle - /opt/ml/model/code/serve.py:18: UserWarning: test2\n",
      "\u001b[36malgo-1-n3hmx_1  |\u001b[0m 2019-10-04 06:57:57,429 [WARN ] W-9000-model-stderr com.amazonaws.ml.mms.wlm.WorkerLifeCycle -   warnings.warn('test2')\n",
      "\u001b[36malgo-1-n3hmx_1  |\u001b[0m 2019-10-04 06:57:57,429 [INFO ] W-9000-model com.amazonaws.ml.mms.wlm.WorkerThread - Backend response time: 2179\n",
      "\u001b[36malgo-1-n3hmx_1  |\u001b[0m 2019-10-04 06:57:57,434 [INFO ] W-9016-model-stdout com.amazonaws.ml.mms.wlm.WorkerLifeCycle - test\n",
      "\u001b[36malgo-1-n3hmx_1  |\u001b[0m 2019-10-04 06:57:57,434 [WARN ] W-9016-model-stderr com.amazonaws.ml.mms.wlm.WorkerLifeCycle - /opt/ml/model/code/serve.py:18: UserWarning: test2\n",
      "\u001b[36malgo-1-n3hmx_1  |\u001b[0m 2019-10-04 06:57:57,434 [WARN ] W-9016-model-stderr com.amazonaws.ml.mms.wlm.WorkerLifeCycle -   warnings.warn('test2')\n",
      "\u001b[36malgo-1-n3hmx_1  |\u001b[0m 2019-10-04 06:57:57,434 [INFO ] W-9016-model com.amazonaws.ml.mms.wlm.WorkerThread - Backend response time: 2191\n",
      "\u001b[36malgo-1-n3hmx_1  |\u001b[0m 2019-10-04 06:57:57,435 [INFO ] W-9009-model-stdout com.amazonaws.ml.mms.wlm.WorkerLifeCycle - test\n",
      "\u001b[36malgo-1-n3hmx_1  |\u001b[0m 2019-10-04 06:57:57,436 [WARN ] W-9009-model-stderr com.amazonaws.ml.mms.wlm.WorkerLifeCycle - /opt/ml/model/code/serve.py:18: UserWarning: test2\n",
      "\u001b[36malgo-1-n3hmx_1  |\u001b[0m 2019-10-04 06:57:57,436 [WARN ] W-9009-model-stderr com.amazonaws.ml.mms.wlm.WorkerLifeCycle -   warnings.warn('test2')\n",
      "\u001b[36malgo-1-n3hmx_1  |\u001b[0m 2019-10-04 06:57:57,436 [INFO ] W-9009-model com.amazonaws.ml.mms.wlm.WorkerThread - Backend response time: 2192\n",
      "\u001b[36malgo-1-n3hmx_1  |\u001b[0m 2019-10-04 06:57:57,442 [INFO ] W-9027-model-stdout com.amazonaws.ml.mms.wlm.WorkerLifeCycle - test\n",
      "\u001b[36malgo-1-n3hmx_1  |\u001b[0m 2019-10-04 06:57:57,442 [WARN ] W-9027-model-stderr com.amazonaws.ml.mms.wlm.WorkerLifeCycle - /opt/ml/model/code/serve.py:18: UserWarning: test2\n",
      "\u001b[36malgo-1-n3hmx_1  |\u001b[0m 2019-10-04 06:57:57,442 [WARN ] W-9027-model-stderr com.amazonaws.ml.mms.wlm.WorkerLifeCycle -   warnings.warn('test2')\n",
      "\u001b[36malgo-1-n3hmx_1  |\u001b[0m 2019-10-04 06:57:57,442 [INFO ] W-9027-model com.amazonaws.ml.mms.wlm.WorkerThread - Backend response time: 2197\n",
      "\u001b[36malgo-1-n3hmx_1  |\u001b[0m 2019-10-04 06:57:57,443 [INFO ] W-9024-model-stdout com.amazonaws.ml.mms.wlm.WorkerLifeCycle - test\n",
      "\u001b[36malgo-1-n3hmx_1  |\u001b[0m 2019-10-04 06:57:57,443 [WARN ] W-9024-model-stderr com.amazonaws.ml.mms.wlm.WorkerLifeCycle - /opt/ml/model/code/serve.py:18: UserWarning: test2\n",
      "\u001b[36malgo-1-n3hmx_1  |\u001b[0m 2019-10-04 06:57:57,443 [WARN ] W-9024-model-stderr com.amazonaws.ml.mms.wlm.WorkerLifeCycle -   warnings.warn('test2')\n",
      "\u001b[36malgo-1-n3hmx_1  |\u001b[0m 2019-10-04 06:57:57,443 [INFO ] W-9024-model com.amazonaws.ml.mms.wlm.WorkerThread - Backend response time: 2193\n",
      "\u001b[36malgo-1-n3hmx_1  |\u001b[0m 2019-10-04 06:57:57,449 [INFO ] W-9008-model-stdout com.amazonaws.ml.mms.wlm.WorkerLifeCycle - test\n",
      "\u001b[36malgo-1-n3hmx_1  |\u001b[0m 2019-10-04 06:57:57,449 [WARN ] W-9008-model-stderr com.amazonaws.ml.mms.wlm.WorkerLifeCycle - /opt/ml/model/code/serve.py:18: UserWarning: test2\n",
      "\u001b[36malgo-1-n3hmx_1  |\u001b[0m 2019-10-04 06:57:57,449 [WARN ] W-9008-model-stderr com.amazonaws.ml.mms.wlm.WorkerLifeCycle -   warnings.warn('test2')\n",
      "\u001b[36malgo-1-n3hmx_1  |\u001b[0m 2019-10-04 06:57:57,450 [INFO ] W-9008-model com.amazonaws.ml.mms.wlm.WorkerThread - Backend response time: 2200\n",
      "\u001b[36malgo-1-n3hmx_1  |\u001b[0m 2019-10-04 06:57:57,465 [INFO ] W-9023-model-stdout com.amazonaws.ml.mms.wlm.WorkerLifeCycle - test\n",
      "\u001b[36malgo-1-n3hmx_1  |\u001b[0m 2019-10-04 06:57:57,465 [WARN ] W-9023-model-stderr com.amazonaws.ml.mms.wlm.WorkerLifeCycle - /opt/ml/model/code/serve.py:18: UserWarning: test2\n",
      "\u001b[36malgo-1-n3hmx_1  |\u001b[0m 2019-10-04 06:57:57,465 [WARN ] W-9023-model-stderr com.amazonaws.ml.mms.wlm.WorkerLifeCycle -   warnings.warn('test2')\n",
      "\u001b[36malgo-1-n3hmx_1  |\u001b[0m 2019-10-04 06:57:57,465 [INFO ] W-9023-model com.amazonaws.ml.mms.wlm.WorkerThread - Backend response time: 2220\n",
      "\u001b[36malgo-1-n3hmx_1  |\u001b[0m 2019-10-04 06:57:57,479 [INFO ] W-9028-model-stdout com.amazonaws.ml.mms.wlm.WorkerLifeCycle - test\n",
      "\u001b[36malgo-1-n3hmx_1  |\u001b[0m 2019-10-04 06:57:57,479 [WARN ] W-9028-model-stderr com.amazonaws.ml.mms.wlm.WorkerLifeCycle - /opt/ml/model/code/serve.py:18: UserWarning: test2\n",
      "\u001b[36malgo-1-n3hmx_1  |\u001b[0m 2019-10-04 06:57:57,479 [WARN ] W-9028-model-stderr com.amazonaws.ml.mms.wlm.WorkerLifeCycle -   warnings.warn('test2')\n",
      "\u001b[36malgo-1-n3hmx_1  |\u001b[0m 2019-10-04 06:57:57,479 [INFO ] W-9028-model com.amazonaws.ml.mms.wlm.WorkerThread - Backend response time: 2227\n",
      "\u001b[36malgo-1-n3hmx_1  |\u001b[0m 2019-10-04 06:57:57,480 [INFO ] W-9005-model-stdout com.amazonaws.ml.mms.wlm.WorkerLifeCycle - test\n",
      "\u001b[36malgo-1-n3hmx_1  |\u001b[0m 2019-10-04 06:57:57,480 [WARN ] W-9005-model-stderr com.amazonaws.ml.mms.wlm.WorkerLifeCycle - /opt/ml/model/code/serve.py:18: UserWarning: test2\n",
      "\u001b[36malgo-1-n3hmx_1  |\u001b[0m 2019-10-04 06:57:57,480 [WARN ] W-9005-model-stderr com.amazonaws.ml.mms.wlm.WorkerLifeCycle -   warnings.warn('test2')\n",
      "\u001b[36malgo-1-n3hmx_1  |\u001b[0m 2019-10-04 06:57:57,480 [INFO ] W-9005-model com.amazonaws.ml.mms.wlm.WorkerThread - Backend response time: 2235\n",
      "\u001b[36malgo-1-n3hmx_1  |\u001b[0m 2019-10-04 06:57:57,504 [INFO ] W-9007-model-stdout com.amazonaws.ml.mms.wlm.WorkerLifeCycle - test\n",
      "\u001b[36malgo-1-n3hmx_1  |\u001b[0m 2019-10-04 06:57:57,504 [WARN ] W-9007-model-stderr com.amazonaws.ml.mms.wlm.WorkerLifeCycle - /opt/ml/model/code/serve.py:18: UserWarning: test2\n",
      "\u001b[36malgo-1-n3hmx_1  |\u001b[0m 2019-10-04 06:57:57,504 [WARN ] W-9007-model-stderr com.amazonaws.ml.mms.wlm.WorkerLifeCycle -   warnings.warn('test2')\n",
      "\u001b[36malgo-1-n3hmx_1  |\u001b[0m 2019-10-04 06:57:57,505 [INFO ] W-9007-model com.amazonaws.ml.mms.wlm.WorkerThread - Backend response time: 2245\n"
     ]
    }
   ],
   "source": [
    "predictor = sagemaker_model.deploy(initial_instance_count=1,\n",
    "                                   instance_type='local')"
   ]
  },
  {
   "cell_type": "code",
   "execution_count": 195,
   "metadata": {},
   "outputs": [
    {
     "name": "stdout",
     "output_type": "stream",
     "text": [
      "\u001b[36malgo-1-n3hmx_1  |\u001b[0m 2019-10-04 16:49:24,992 [INFO ] W-9026-model-stdout com.amazonaws.ml.mms.wlm.WorkerLifeCycle - model_fn\n",
      "\u001b[36malgo-1-n3hmx_1  |\u001b[0m 2019-10-04 16:49:24,992 [WARN ] W-9026-model-stderr com.amazonaws.ml.mms.wlm.WorkerLifeCycle - /opt/ml/model/code/serve.py:28: UserWarning: model_fn2\n",
      "\u001b[36malgo-1-n3hmx_1  |\u001b[0m 2019-10-04 16:49:24,992 [WARN ] W-9026-model-stderr com.amazonaws.ml.mms.wlm.WorkerLifeCycle -   warnings.warn('model_fn2')\n",
      "\u001b[36malgo-1-n3hmx_1  |\u001b[0m 2019-10-04 16:49:25,014 [WARN ] W-9026-model-stderr com.amazonaws.ml.mms.wlm.WorkerLifeCycle - /root/.local/lib/python3.6/site-packages/mxnet/gluon/block.py:1159: UserWarning: Cannot decide type for the following arguments. Consider providing them as input:\n",
      "\u001b[36malgo-1-n3hmx_1  |\u001b[0m 2019-10-04 16:49:25,014 [WARN ] W-9026-model-stderr com.amazonaws.ml.mms.wlm.WorkerLifeCycle - \tdata0: None\n",
      "\u001b[36malgo-1-n3hmx_1  |\u001b[0m 2019-10-04 16:49:25,014 [WARN ] W-9026-model-stderr com.amazonaws.ml.mms.wlm.WorkerLifeCycle -   input_sym_arg_type = in_param.infer_type()[0]\n",
      "\u001b[36malgo-1-n3hmx_1  |\u001b[0m 2019-10-04 16:49:25,873 [INFO ] W-9026-model-stdout com.amazonaws.ml.mms.wlm.WorkerLifeCycle - transform_fn\n",
      "\u001b[36malgo-1-n3hmx_1  |\u001b[0m 2019-10-04 16:49:25,873 [WARN ] W-9026-model-stderr com.amazonaws.ml.mms.wlm.WorkerLifeCycle - /opt/ml/model/code/serve.py:51: UserWarning: transform_fn2\n",
      "\u001b[36malgo-1-n3hmx_1  |\u001b[0m 2019-10-04 16:49:25,873 [WARN ] W-9026-model-stderr com.amazonaws.ml.mms.wlm.WorkerLifeCycle -   warnings.warn('transform_fn2')\n",
      "\u001b[36malgo-1-n3hmx_1  |\u001b[0m 2019-10-04 16:49:26,009 [INFO ] W-9026-model com.amazonaws.ml.mms.wlm.WorkerThread - Backend response time: 1018\n",
      "\u001b[36malgo-1-n3hmx_1  |\u001b[0m 2019-10-04 16:49:26,009 [INFO ] W-9026-model ACCESS_LOG - /172.18.0.1:32840 \"POST /invocations HTTP/1.1\" 200 1018\n",
      "\n",
      "Prediction output: positive\n",
      "\n",
      "\n"
     ]
    }
   ],
   "source": [
    "output = predictor.predict('The model is deployed. Great!')\n",
    "print('\\nPrediction output: {}\\n\\n'.format(output))"
   ]
  },
  {
   "cell_type": "markdown",
   "metadata": {
    "slideshow": {
     "slide_type": "notes"
    }
   },
   "source": [
    "## Conclusion\n",
    "\n",
    "In this tutorial, we showed how to fine-tune sentiment analysis model with pre-trained BERT parameters. In GluonNLP, this can be done with such few, simple steps. All we did was apply a BERT-style data transformation to pre-process the data, automatically download the pre-trained model, and feed the transformed data into the model, all within 50 lines of code!\n",
    "\n",
    "For more fine-tuning scripts, visit the [BERT model zoo webpage](http://gluon-nlp.mxnet.io/model_zoo/bert/index.html).\n",
    "\n",
    "## References\n",
    "\n",
    "[1] Devlin, Jacob, et al. \"Bert:\n",
    "Pre-training of deep\n",
    "bidirectional transformers for language understanding.\"\n",
    "arXiv preprint\n",
    "arXiv:1810.04805 (2018).\n",
    "\n",
    "[2] Dolan, William B., and Chris\n",
    "Brockett.\n",
    "\"Automatically constructing a corpus of sentential paraphrases.\"\n",
    "Proceedings of\n",
    "the Third International Workshop on Paraphrasing (IWP2005). 2005.\n",
    "\n",
    "[3] Peters,\n",
    "Matthew E., et al. \"Deep contextualized word representations.\" arXiv\n",
    "preprint\n",
    "arXiv:1802.05365 (2018).\n",
    "\n",
    "[4] Hendrycks, Dan, and Kevin Gimpel. \"Gaussian error linear units (gelus).\" arXiv preprint arXiv:1606.08415 (2016).\n",
    "\n",
    "For fine-tuning, we only need to initialize the last classifier layer from scratch. The other layers are already initialized from the pre-trained model weights."
   ]
  }
 ],
 "metadata": {
  "celltoolbar": "Slideshow",
  "kernelspec": {
   "display_name": "conda_mxnet_p36",
   "language": "python",
   "name": "conda_mxnet_p36"
  },
  "language_info": {
   "codemirror_mode": {
    "name": "ipython",
    "version": 3
   },
   "file_extension": ".py",
   "mimetype": "text/x-python",
   "name": "python",
   "nbconvert_exporter": "python",
   "pygments_lexer": "ipython3",
   "version": "3.6.5"
  }
 },
 "nbformat": 4,
 "nbformat_minor": 2
}
